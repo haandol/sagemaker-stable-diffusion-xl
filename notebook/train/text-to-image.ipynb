{
 "cells": [
  {
   "cell_type": "code",
   "execution_count": 1,
   "id": "e34b5fdf-42f1-4b04-9c94-86beac5aa016",
   "metadata": {
    "tags": []
   },
   "outputs": [],
   "source": [
    "!pip -q install wandb datasets torchvision"
   ]
  },
  {
   "cell_type": "code",
   "execution_count": 1,
   "id": "9cd5bee0-9f8c-4e3c-abee-655dc67207c5",
   "metadata": {
    "tags": []
   },
   "outputs": [
    {
     "name": "stderr",
     "output_type": "stream",
     "text": [
      "/home/ec2-user/anaconda3/envs/python3/lib/python3.10/site-packages/pandas/core/computation/expressions.py:21: UserWarning: Pandas requires version '2.8.0' or newer of 'numexpr' (version '2.7.3' currently installed).\n",
      "  from pandas.core.computation.check import NUMEXPR_INSTALLED\n"
     ]
    },
    {
     "name": "stdout",
     "output_type": "stream",
     "text": [
      "sagemaker.config INFO - Not applying SDK defaults from location: /etc/xdg/sagemaker/config.yaml\n",
      "sagemaker.config INFO - Not applying SDK defaults from location: /home/ec2-user/.config/sagemaker/config.yaml\n"
     ]
    }
   ],
   "source": [
    "# for common\n",
    "import os\n",
    "import json\n",
    "from pathlib import Path\n",
    "\n",
    "import wandb\n",
    "from datasets import load_dataset, Image\n",
    "import boto3, botocore\n",
    "import sagemaker\n",
    "from sagemaker import get_execution_role\n",
    "\n",
    "# for resizing\n",
    "from PIL import Image\n",
    "from torchvision import transforms\n",
    "\n",
    "# for training\n",
    "from sagemaker import image_uris, model_uris, script_uris\n",
    "\n",
    "from sagemaker.estimator import Estimator\n",
    "from sagemaker.utils import name_from_base\n",
    "from sagemaker.parameter import ContinuousParameter, IntegerParameter\n",
    "from sagemaker.tuner import HyperparameterTuner\n",
    "\n",
    "# for inference\n",
    "import matplotlib.pyplot as plt\n",
    "import numpy as np\n",
    "from sagemaker.predictor import Predictor\n",
    "\n",
    "# utils\n",
    "from utils import create_bucket_if_not_exists"
   ]
  },
  {
   "cell_type": "code",
   "execution_count": 2,
   "id": "87eda234-8d7d-4941-a910-613f4d459a09",
   "metadata": {
    "tags": []
   },
   "outputs": [
    {
     "name": "stdout",
     "output_type": "stream",
     "text": [
      "arn:aws:iam::851725450449:role/service-role/AmazonSageMaker-ExecutionRole-20240125T135936\n",
      "us-east-1\n",
      "us-east-1\n"
     ]
    }
   ],
   "source": [
    "try:\n",
    "    aws_role = sagemaker.get_execution_role()\n",
    "except:\n",
    "    iam = boto3.client(\"iam\")\n",
    "    # TODO: replace with your role name (i.e. \"AmazonSageMaker-ExecutionRole-20211014T154824\")\n",
    "    aws_role = iam.get_role(RoleName=\"<replace with your RoleName>\")[\"Role\"][\"Arn\"]\n",
    "\n",
    "boto_session = boto3.Session()\n",
    "aws_region = boto_session.region_name\n",
    "sess = sagemaker.Session(boto_session=boto_session)\n",
    "account_id = boto3.client(\"sts\").get_caller_identity().get(\"Account\")\n",
    "\n",
    "print(aws_role)\n",
    "print(aws_region)\n",
    "print(sess.boto_region_name)"
   ]
  },
  {
   "cell_type": "code",
   "execution_count": 3,
   "id": "fda4e88a-534a-423d-86d6-2a4b051b0b3e",
   "metadata": {
    "tags": []
   },
   "outputs": [],
   "source": [
    "local_training_dataset_folder= Path(\"text_to_image_training_images\")\n",
    "if not os.path.exists(local_training_dataset_folder):\n",
    "    os.mkdir(local_training_dataset_folder)"
   ]
  },
  {
   "cell_type": "code",
   "execution_count": 7,
   "id": "59bd53a9-57ad-4dda-ae8d-f4702b32d762",
   "metadata": {
    "tags": []
   },
   "outputs": [],
   "source": [
    "use_local_images = False\n",
    "\n",
    "cache_dir = '/home/ec2-user/SageMaker/.cache/dataset'\n",
    "if not use_local_images:\n",
    "    dataset_name = 'haandol/icon'\n",
    "    dataset = load_dataset(dataset_name, split='train', cache_dir=cache_dir)\n",
    "    \n",
    "    metadata = []\n",
    "    for i, datum in enumerate(dataset):\n",
    "        fn = f'{i}'.zfill(3) + '.jpg'\n",
    "        datum['image'].convert('RGB').save(local_training_dataset_folder / fn)\n",
    "        datum['text']\n",
    "        metadata.append(json.dumps({\n",
    "            'file_name': fn,\n",
    "            'text': datum['text']\n",
    "        }))\n",
    "    \n",
    "    with open(local_training_dataset_folder / 'metadata.jsonl', 'w') as fp:\n",
    "        fp.write('\\n'.join(metadata))"
   ]
  },
  {
   "cell_type": "code",
   "execution_count": 8,
   "id": "2de4ae4d-bf8d-4d56-82be-2136203f1998",
   "metadata": {
    "tags": []
   },
   "outputs": [],
   "source": [
    "validation_prompt = 'a photo of black telephone handset in front of the Eiffel tower'\n",
    "# Instance prompt is fed into the training script via dataset_info.json present in the training folder. Here, we write that file.\n",
    "with open(os.path.join(local_training_dataset_folder, \"dataset_info.json\"), \"w\") as fp:\n",
    "    fp.write(json.dumps({\n",
    "        'validation_prompt': validation_prompt\n",
    "    }))"
   ]
  },
  {
   "cell_type": "code",
   "execution_count": 10,
   "id": "7091e7e3-ba20-46cc-9cd4-bf225098ff83",
   "metadata": {
    "tags": []
   },
   "outputs": [
    {
     "name": "stdout",
     "output_type": "stream",
     "text": [
      "Created s3.Bucket(name='sdxl-text-to-image-lora-851725450449')\n"
     ]
    }
   ],
   "source": [
    "training_bucket = f\"sdxl-text-to-image-lora-{account_id}\"\n",
    "\n",
    "create_bucket_if_not_exists(training_bucket)\n",
    "\n",
    "train_s3_path = f\"s3://{training_bucket}/text-to-image/\""
   ]
  },
  {
   "cell_type": "code",
   "execution_count": 11,
   "id": "ed258b5d-b6ad-4d26-8ed4-627bc8b03a5a",
   "metadata": {
    "tags": []
   },
   "outputs": [
    {
     "name": "stdout",
     "output_type": "stream",
     "text": [
      "upload: text_to_image_training_images/001.jpg to s3://sdxl-text-to-image-lora-851725450449/text-to-image/001.jpg\n",
      "upload: text_to_image_training_images/000.jpg to s3://sdxl-text-to-image-lora-851725450449/text-to-image/000.jpg\n",
      "upload: text_to_image_training_images/004.jpg to s3://sdxl-text-to-image-lora-851725450449/text-to-image/004.jpg\n",
      "upload: text_to_image_training_images/002.jpg to s3://sdxl-text-to-image-lora-851725450449/text-to-image/002.jpg\n",
      "upload: text_to_image_training_images/003.jpg to s3://sdxl-text-to-image-lora-851725450449/text-to-image/003.jpg\n",
      "upload: text_to_image_training_images/007.jpg to s3://sdxl-text-to-image-lora-851725450449/text-to-image/007.jpg\n",
      "upload: text_to_image_training_images/009.jpg to s3://sdxl-text-to-image-lora-851725450449/text-to-image/009.jpg\n",
      "upload: text_to_image_training_images/006.jpg to s3://sdxl-text-to-image-lora-851725450449/text-to-image/006.jpg\n",
      "upload: text_to_image_training_images/008.jpg to s3://sdxl-text-to-image-lora-851725450449/text-to-image/008.jpg\n",
      "upload: text_to_image_training_images/005.jpg to s3://sdxl-text-to-image-lora-851725450449/text-to-image/005.jpg\n",
      "upload: text_to_image_training_images/015.jpg to s3://sdxl-text-to-image-lora-851725450449/text-to-image/015.jpg\n",
      "upload: text_to_image_training_images/013.jpg to s3://sdxl-text-to-image-lora-851725450449/text-to-image/013.jpg\n",
      "upload: text_to_image_training_images/019.jpg to s3://sdxl-text-to-image-lora-851725450449/text-to-image/019.jpg\n",
      "upload: text_to_image_training_images/011.jpg to s3://sdxl-text-to-image-lora-851725450449/text-to-image/011.jpg\n",
      "upload: text_to_image_training_images/010.jpg to s3://sdxl-text-to-image-lora-851725450449/text-to-image/010.jpg\n",
      "upload: text_to_image_training_images/020.jpg to s3://sdxl-text-to-image-lora-851725450449/text-to-image/020.jpg\n",
      "upload: text_to_image_training_images/014.jpg to s3://sdxl-text-to-image-lora-851725450449/text-to-image/014.jpg\n",
      "upload: text_to_image_training_images/018.jpg to s3://sdxl-text-to-image-lora-851725450449/text-to-image/018.jpg\n",
      "upload: text_to_image_training_images/016.jpg to s3://sdxl-text-to-image-lora-851725450449/text-to-image/016.jpg\n",
      "upload: text_to_image_training_images/024.jpg to s3://sdxl-text-to-image-lora-851725450449/text-to-image/024.jpg\n",
      "upload: text_to_image_training_images/023.jpg to s3://sdxl-text-to-image-lora-851725450449/text-to-image/023.jpg\n",
      "upload: text_to_image_training_images/025.jpg to s3://sdxl-text-to-image-lora-851725450449/text-to-image/025.jpg\n",
      "upload: text_to_image_training_images/028.jpg to s3://sdxl-text-to-image-lora-851725450449/text-to-image/028.jpg\n",
      "upload: text_to_image_training_images/021.jpg to s3://sdxl-text-to-image-lora-851725450449/text-to-image/021.jpg\n",
      "upload: text_to_image_training_images/030.jpg to s3://sdxl-text-to-image-lora-851725450449/text-to-image/030.jpg\n",
      "upload: text_to_image_training_images/026.jpg to s3://sdxl-text-to-image-lora-851725450449/text-to-image/026.jpg\n",
      "upload: text_to_image_training_images/029.jpg to s3://sdxl-text-to-image-lora-851725450449/text-to-image/029.jpg\n",
      "upload: text_to_image_training_images/022.jpg to s3://sdxl-text-to-image-lora-851725450449/text-to-image/022.jpg\n",
      "upload: text_to_image_training_images/027.jpg to s3://sdxl-text-to-image-lora-851725450449/text-to-image/027.jpg\n",
      "upload: text_to_image_training_images/017.jpg to s3://sdxl-text-to-image-lora-851725450449/text-to-image/017.jpg\n",
      "upload: text_to_image_training_images/012.jpg to s3://sdxl-text-to-image-lora-851725450449/text-to-image/012.jpg\n",
      "upload: text_to_image_training_images/031.jpg to s3://sdxl-text-to-image-lora-851725450449/text-to-image/031.jpg\n",
      "upload: text_to_image_training_images/032.jpg to s3://sdxl-text-to-image-lora-851725450449/text-to-image/032.jpg\n",
      "upload: text_to_image_training_images/037.jpg to s3://sdxl-text-to-image-lora-851725450449/text-to-image/037.jpg\n",
      "upload: text_to_image_training_images/038.jpg to s3://sdxl-text-to-image-lora-851725450449/text-to-image/038.jpg\n",
      "upload: text_to_image_training_images/033.jpg to s3://sdxl-text-to-image-lora-851725450449/text-to-image/033.jpg\n",
      "upload: text_to_image_training_images/034.jpg to s3://sdxl-text-to-image-lora-851725450449/text-to-image/034.jpg\n",
      "upload: text_to_image_training_images/039.jpg to s3://sdxl-text-to-image-lora-851725450449/text-to-image/039.jpg\n",
      "upload: text_to_image_training_images/035.jpg to s3://sdxl-text-to-image-lora-851725450449/text-to-image/035.jpg\n",
      "upload: text_to_image_training_images/036.jpg to s3://sdxl-text-to-image-lora-851725450449/text-to-image/036.jpg\n",
      "upload: text_to_image_training_images/043.jpg to s3://sdxl-text-to-image-lora-851725450449/text-to-image/043.jpg\n",
      "upload: text_to_image_training_images/040.jpg to s3://sdxl-text-to-image-lora-851725450449/text-to-image/040.jpg\n",
      "upload: text_to_image_training_images/042.jpg to s3://sdxl-text-to-image-lora-851725450449/text-to-image/042.jpg\n",
      "upload: text_to_image_training_images/041.jpg to s3://sdxl-text-to-image-lora-851725450449/text-to-image/041.jpg\n",
      "upload: text_to_image_training_images/048.jpg to s3://sdxl-text-to-image-lora-851725450449/text-to-image/048.jpg\n",
      "upload: text_to_image_training_images/047.jpg to s3://sdxl-text-to-image-lora-851725450449/text-to-image/047.jpg\n",
      "upload: text_to_image_training_images/049.jpg to s3://sdxl-text-to-image-lora-851725450449/text-to-image/049.jpg\n",
      "upload: text_to_image_training_images/044.jpg to s3://sdxl-text-to-image-lora-851725450449/text-to-image/044.jpg\n",
      "upload: text_to_image_training_images/051.jpg to s3://sdxl-text-to-image-lora-851725450449/text-to-image/051.jpg\n",
      "upload: text_to_image_training_images/045.jpg to s3://sdxl-text-to-image-lora-851725450449/text-to-image/045.jpg\n",
      "upload: text_to_image_training_images/054.jpg to s3://sdxl-text-to-image-lora-851725450449/text-to-image/054.jpg\n",
      "upload: text_to_image_training_images/056.jpg to s3://sdxl-text-to-image-lora-851725450449/text-to-image/056.jpg\n",
      "upload: text_to_image_training_images/053.jpg to s3://sdxl-text-to-image-lora-851725450449/text-to-image/053.jpg\n",
      "upload: text_to_image_training_images/046.jpg to s3://sdxl-text-to-image-lora-851725450449/text-to-image/046.jpg\n",
      "upload: text_to_image_training_images/057.jpg to s3://sdxl-text-to-image-lora-851725450449/text-to-image/057.jpg\n",
      "upload: text_to_image_training_images/055.jpg to s3://sdxl-text-to-image-lora-851725450449/text-to-image/055.jpg\n",
      "upload: text_to_image_training_images/050.jpg to s3://sdxl-text-to-image-lora-851725450449/text-to-image/050.jpg\n",
      "upload: text_to_image_training_images/060.jpg to s3://sdxl-text-to-image-lora-851725450449/text-to-image/060.jpg\n",
      "upload: text_to_image_training_images/061.jpg to s3://sdxl-text-to-image-lora-851725450449/text-to-image/061.jpg\n",
      "upload: text_to_image_training_images/059.jpg to s3://sdxl-text-to-image-lora-851725450449/text-to-image/059.jpg\n",
      "upload: text_to_image_training_images/052.jpg to s3://sdxl-text-to-image-lora-851725450449/text-to-image/052.jpg\n",
      "upload: text_to_image_training_images/062.jpg to s3://sdxl-text-to-image-lora-851725450449/text-to-image/062.jpg\n",
      "upload: text_to_image_training_images/069.jpg to s3://sdxl-text-to-image-lora-851725450449/text-to-image/069.jpg\n",
      "upload: text_to_image_training_images/063.jpg to s3://sdxl-text-to-image-lora-851725450449/text-to-image/063.jpg\n",
      "upload: text_to_image_training_images/065.jpg to s3://sdxl-text-to-image-lora-851725450449/text-to-image/065.jpg\n",
      "upload: text_to_image_training_images/071.jpg to s3://sdxl-text-to-image-lora-851725450449/text-to-image/071.jpg\n",
      "upload: text_to_image_training_images/064.jpg to s3://sdxl-text-to-image-lora-851725450449/text-to-image/064.jpg\n",
      "upload: text_to_image_training_images/072.jpg to s3://sdxl-text-to-image-lora-851725450449/text-to-image/072.jpg\n",
      "upload: text_to_image_training_images/067.jpg to s3://sdxl-text-to-image-lora-851725450449/text-to-image/067.jpg\n",
      "upload: text_to_image_training_images/070.jpg to s3://sdxl-text-to-image-lora-851725450449/text-to-image/070.jpg\n",
      "upload: text_to_image_training_images/068.jpg to s3://sdxl-text-to-image-lora-851725450449/text-to-image/068.jpg\n",
      "upload: text_to_image_training_images/075.jpg to s3://sdxl-text-to-image-lora-851725450449/text-to-image/075.jpg\n",
      "upload: text_to_image_training_images/066.jpg to s3://sdxl-text-to-image-lora-851725450449/text-to-image/066.jpg\n",
      "upload: text_to_image_training_images/080.jpg to s3://sdxl-text-to-image-lora-851725450449/text-to-image/080.jpg\n",
      "upload: text_to_image_training_images/074.jpg to s3://sdxl-text-to-image-lora-851725450449/text-to-image/074.jpg\n",
      "upload: text_to_image_training_images/076.jpg to s3://sdxl-text-to-image-lora-851725450449/text-to-image/076.jpg\n",
      "upload: text_to_image_training_images/058.jpg to s3://sdxl-text-to-image-lora-851725450449/text-to-image/058.jpg\n",
      "upload: text_to_image_training_images/079.jpg to s3://sdxl-text-to-image-lora-851725450449/text-to-image/079.jpg\n",
      "upload: text_to_image_training_images/077.jpg to s3://sdxl-text-to-image-lora-851725450449/text-to-image/077.jpg\n",
      "upload: text_to_image_training_images/078.jpg to s3://sdxl-text-to-image-lora-851725450449/text-to-image/078.jpg\n",
      "upload: text_to_image_training_images/073.jpg to s3://sdxl-text-to-image-lora-851725450449/text-to-image/073.jpg\n",
      "upload: text_to_image_training_images/081.jpg to s3://sdxl-text-to-image-lora-851725450449/text-to-image/081.jpg\n",
      "upload: text_to_image_training_images/083.jpg to s3://sdxl-text-to-image-lora-851725450449/text-to-image/083.jpg\n",
      "upload: text_to_image_training_images/089.jpg to s3://sdxl-text-to-image-lora-851725450449/text-to-image/089.jpg\n",
      "upload: text_to_image_training_images/084.jpg to s3://sdxl-text-to-image-lora-851725450449/text-to-image/084.jpg\n",
      "upload: text_to_image_training_images/088.jpg to s3://sdxl-text-to-image-lora-851725450449/text-to-image/088.jpg\n",
      "upload: text_to_image_training_images/091.jpg to s3://sdxl-text-to-image-lora-851725450449/text-to-image/091.jpg\n",
      "upload: text_to_image_training_images/087.jpg to s3://sdxl-text-to-image-lora-851725450449/text-to-image/087.jpg\n",
      "upload: text_to_image_training_images/093.jpg to s3://sdxl-text-to-image-lora-851725450449/text-to-image/093.jpg\n",
      "upload: text_to_image_training_images/090.jpg to s3://sdxl-text-to-image-lora-851725450449/text-to-image/090.jpg\n",
      "upload: text_to_image_training_images/086.jpg to s3://sdxl-text-to-image-lora-851725450449/text-to-image/086.jpg\n",
      "upload: text_to_image_training_images/085.jpg to s3://sdxl-text-to-image-lora-851725450449/text-to-image/085.jpg\n",
      "upload: text_to_image_training_images/082.jpg to s3://sdxl-text-to-image-lora-851725450449/text-to-image/082.jpg\n",
      "upload: text_to_image_training_images/094.jpg to s3://sdxl-text-to-image-lora-851725450449/text-to-image/094.jpg\n",
      "upload: text_to_image_training_images/100.jpg to s3://sdxl-text-to-image-lora-851725450449/text-to-image/100.jpg\n",
      "upload: text_to_image_training_images/092.jpg to s3://sdxl-text-to-image-lora-851725450449/text-to-image/092.jpg\n",
      "upload: text_to_image_training_images/098.jpg to s3://sdxl-text-to-image-lora-851725450449/text-to-image/098.jpg\n",
      "upload: text_to_image_training_images/096.jpg to s3://sdxl-text-to-image-lora-851725450449/text-to-image/096.jpg\n",
      "upload: text_to_image_training_images/103.jpg to s3://sdxl-text-to-image-lora-851725450449/text-to-image/103.jpg\n",
      "upload: text_to_image_training_images/099.jpg to s3://sdxl-text-to-image-lora-851725450449/text-to-image/099.jpg\n",
      "upload: text_to_image_training_images/097.jpg to s3://sdxl-text-to-image-lora-851725450449/text-to-image/097.jpg\n",
      "upload: text_to_image_training_images/095.jpg to s3://sdxl-text-to-image-lora-851725450449/text-to-image/095.jpg\n",
      "upload: text_to_image_training_images/105.jpg to s3://sdxl-text-to-image-lora-851725450449/text-to-image/105.jpg\n",
      "upload: text_to_image_training_images/106.jpg to s3://sdxl-text-to-image-lora-851725450449/text-to-image/106.jpg\n",
      "upload: text_to_image_training_images/101.jpg to s3://sdxl-text-to-image-lora-851725450449/text-to-image/101.jpg\n",
      "upload: text_to_image_training_images/104.jpg to s3://sdxl-text-to-image-lora-851725450449/text-to-image/104.jpg\n",
      "upload: text_to_image_training_images/102.jpg to s3://sdxl-text-to-image-lora-851725450449/text-to-image/102.jpg\n",
      "upload: text_to_image_training_images/111.jpg to s3://sdxl-text-to-image-lora-851725450449/text-to-image/111.jpg\n",
      "upload: text_to_image_training_images/108.jpg to s3://sdxl-text-to-image-lora-851725450449/text-to-image/108.jpg\n",
      "upload: text_to_image_training_images/110.jpg to s3://sdxl-text-to-image-lora-851725450449/text-to-image/110.jpg\n",
      "upload: text_to_image_training_images/112.jpg to s3://sdxl-text-to-image-lora-851725450449/text-to-image/112.jpg\n",
      "upload: text_to_image_training_images/107.jpg to s3://sdxl-text-to-image-lora-851725450449/text-to-image/107.jpg\n",
      "upload: text_to_image_training_images/117.jpg to s3://sdxl-text-to-image-lora-851725450449/text-to-image/117.jpg\n",
      "upload: text_to_image_training_images/120.jpg to s3://sdxl-text-to-image-lora-851725450449/text-to-image/120.jpg\n",
      "upload: text_to_image_training_images/113.jpg to s3://sdxl-text-to-image-lora-851725450449/text-to-image/113.jpg\n",
      "upload: text_to_image_training_images/118.jpg to s3://sdxl-text-to-image-lora-851725450449/text-to-image/118.jpg\n",
      "upload: text_to_image_training_images/109.jpg to s3://sdxl-text-to-image-lora-851725450449/text-to-image/109.jpg\n",
      "upload: text_to_image_training_images/116.jpg to s3://sdxl-text-to-image-lora-851725450449/text-to-image/116.jpg\n",
      "upload: text_to_image_training_images/115.jpg to s3://sdxl-text-to-image-lora-851725450449/text-to-image/115.jpg\n",
      "upload: text_to_image_training_images/119.jpg to s3://sdxl-text-to-image-lora-851725450449/text-to-image/119.jpg\n",
      "upload: text_to_image_training_images/114.jpg to s3://sdxl-text-to-image-lora-851725450449/text-to-image/114.jpg\n",
      "upload: text_to_image_training_images/124.jpg to s3://sdxl-text-to-image-lora-851725450449/text-to-image/124.jpg\n",
      "upload: text_to_image_training_images/121.jpg to s3://sdxl-text-to-image-lora-851725450449/text-to-image/121.jpg\n",
      "upload: text_to_image_training_images/122.jpg to s3://sdxl-text-to-image-lora-851725450449/text-to-image/122.jpg\n",
      "upload: text_to_image_training_images/130.jpg to s3://sdxl-text-to-image-lora-851725450449/text-to-image/130.jpg\n",
      "upload: text_to_image_training_images/127.jpg to s3://sdxl-text-to-image-lora-851725450449/text-to-image/127.jpg\n",
      "upload: text_to_image_training_images/125.jpg to s3://sdxl-text-to-image-lora-851725450449/text-to-image/125.jpg\n",
      "upload: text_to_image_training_images/126.jpg to s3://sdxl-text-to-image-lora-851725450449/text-to-image/126.jpg\n",
      "upload: text_to_image_training_images/128.jpg to s3://sdxl-text-to-image-lora-851725450449/text-to-image/128.jpg\n",
      "upload: text_to_image_training_images/132.jpg to s3://sdxl-text-to-image-lora-851725450449/text-to-image/132.jpg\n",
      "upload: text_to_image_training_images/123.jpg to s3://sdxl-text-to-image-lora-851725450449/text-to-image/123.jpg\n",
      "upload: text_to_image_training_images/133.jpg to s3://sdxl-text-to-image-lora-851725450449/text-to-image/133.jpg\n",
      "upload: text_to_image_training_images/131.jpg to s3://sdxl-text-to-image-lora-851725450449/text-to-image/131.jpg\n",
      "upload: text_to_image_training_images/129.jpg to s3://sdxl-text-to-image-lora-851725450449/text-to-image/129.jpg\n",
      "upload: text_to_image_training_images/134.jpg to s3://sdxl-text-to-image-lora-851725450449/text-to-image/134.jpg\n",
      "upload: text_to_image_training_images/135.jpg to s3://sdxl-text-to-image-lora-851725450449/text-to-image/135.jpg\n",
      "upload: text_to_image_training_images/139.jpg to s3://sdxl-text-to-image-lora-851725450449/text-to-image/139.jpg\n",
      "upload: text_to_image_training_images/136.jpg to s3://sdxl-text-to-image-lora-851725450449/text-to-image/136.jpg\n",
      "upload: text_to_image_training_images/138.jpg to s3://sdxl-text-to-image-lora-851725450449/text-to-image/138.jpg\n",
      "upload: text_to_image_training_images/145.jpg to s3://sdxl-text-to-image-lora-851725450449/text-to-image/145.jpg\n",
      "upload: text_to_image_training_images/140.jpg to s3://sdxl-text-to-image-lora-851725450449/text-to-image/140.jpg\n",
      "upload: text_to_image_training_images/137.jpg to s3://sdxl-text-to-image-lora-851725450449/text-to-image/137.jpg\n",
      "upload: text_to_image_training_images/143.jpg to s3://sdxl-text-to-image-lora-851725450449/text-to-image/143.jpg\n",
      "upload: text_to_image_training_images/142.jpg to s3://sdxl-text-to-image-lora-851725450449/text-to-image/142.jpg\n",
      "upload: text_to_image_training_images/146.jpg to s3://sdxl-text-to-image-lora-851725450449/text-to-image/146.jpg\n",
      "upload: text_to_image_training_images/148.jpg to s3://sdxl-text-to-image-lora-851725450449/text-to-image/148.jpg\n",
      "upload: text_to_image_training_images/147.jpg to s3://sdxl-text-to-image-lora-851725450449/text-to-image/147.jpg\n",
      "upload: text_to_image_training_images/151.jpg to s3://sdxl-text-to-image-lora-851725450449/text-to-image/151.jpg\n",
      "upload: text_to_image_training_images/149.jpg to s3://sdxl-text-to-image-lora-851725450449/text-to-image/149.jpg\n",
      "upload: text_to_image_training_images/144.jpg to s3://sdxl-text-to-image-lora-851725450449/text-to-image/144.jpg\n",
      "upload: text_to_image_training_images/141.jpg to s3://sdxl-text-to-image-lora-851725450449/text-to-image/141.jpg\n",
      "upload: text_to_image_training_images/159.jpg to s3://sdxl-text-to-image-lora-851725450449/text-to-image/159.jpg\n",
      "upload: text_to_image_training_images/150.jpg to s3://sdxl-text-to-image-lora-851725450449/text-to-image/150.jpg\n",
      "upload: text_to_image_training_images/152.jpg to s3://sdxl-text-to-image-lora-851725450449/text-to-image/152.jpg\n",
      "upload: text_to_image_training_images/154.jpg to s3://sdxl-text-to-image-lora-851725450449/text-to-image/154.jpg\n",
      "upload: text_to_image_training_images/158.jpg to s3://sdxl-text-to-image-lora-851725450449/text-to-image/158.jpg\n",
      "upload: text_to_image_training_images/156.jpg to s3://sdxl-text-to-image-lora-851725450449/text-to-image/156.jpg\n",
      "upload: text_to_image_training_images/161.jpg to s3://sdxl-text-to-image-lora-851725450449/text-to-image/161.jpg\n",
      "upload: text_to_image_training_images/155.jpg to s3://sdxl-text-to-image-lora-851725450449/text-to-image/155.jpg\n",
      "upload: text_to_image_training_images/163.jpg to s3://sdxl-text-to-image-lora-851725450449/text-to-image/163.jpg\n",
      "upload: text_to_image_training_images/157.jpg to s3://sdxl-text-to-image-lora-851725450449/text-to-image/157.jpg\n",
      "upload: text_to_image_training_images/162.jpg to s3://sdxl-text-to-image-lora-851725450449/text-to-image/162.jpg\n",
      "upload: text_to_image_training_images/153.jpg to s3://sdxl-text-to-image-lora-851725450449/text-to-image/153.jpg\n",
      "upload: text_to_image_training_images/164.jpg to s3://sdxl-text-to-image-lora-851725450449/text-to-image/164.jpg\n",
      "upload: text_to_image_training_images/165.jpg to s3://sdxl-text-to-image-lora-851725450449/text-to-image/165.jpg\n",
      "upload: text_to_image_training_images/168.jpg to s3://sdxl-text-to-image-lora-851725450449/text-to-image/168.jpg\n",
      "upload: text_to_image_training_images/172.jpg to s3://sdxl-text-to-image-lora-851725450449/text-to-image/172.jpg\n",
      "upload: text_to_image_training_images/167.jpg to s3://sdxl-text-to-image-lora-851725450449/text-to-image/167.jpg\n",
      "upload: text_to_image_training_images/160.jpg to s3://sdxl-text-to-image-lora-851725450449/text-to-image/160.jpg\n",
      "upload: text_to_image_training_images/166.jpg to s3://sdxl-text-to-image-lora-851725450449/text-to-image/166.jpg\n",
      "upload: text_to_image_training_images/170.jpg to s3://sdxl-text-to-image-lora-851725450449/text-to-image/170.jpg\n",
      "upload: text_to_image_training_images/169.jpg to s3://sdxl-text-to-image-lora-851725450449/text-to-image/169.jpg\n",
      "upload: text_to_image_training_images/171.jpg to s3://sdxl-text-to-image-lora-851725450449/text-to-image/171.jpg\n",
      "upload: text_to_image_training_images/173.jpg to s3://sdxl-text-to-image-lora-851725450449/text-to-image/173.jpg\n",
      "upload: text_to_image_training_images/175.jpg to s3://sdxl-text-to-image-lora-851725450449/text-to-image/175.jpg\n",
      "upload: text_to_image_training_images/174.jpg to s3://sdxl-text-to-image-lora-851725450449/text-to-image/174.jpg\n",
      "upload: text_to_image_training_images/177.jpg to s3://sdxl-text-to-image-lora-851725450449/text-to-image/177.jpg\n",
      "upload: text_to_image_training_images/181.jpg to s3://sdxl-text-to-image-lora-851725450449/text-to-image/181.jpg\n",
      "upload: text_to_image_training_images/180.jpg to s3://sdxl-text-to-image-lora-851725450449/text-to-image/180.jpg\n",
      "upload: text_to_image_training_images/178.jpg to s3://sdxl-text-to-image-lora-851725450449/text-to-image/178.jpg\n",
      "upload: text_to_image_training_images/179.jpg to s3://sdxl-text-to-image-lora-851725450449/text-to-image/179.jpg\n",
      "upload: text_to_image_training_images/176.jpg to s3://sdxl-text-to-image-lora-851725450449/text-to-image/176.jpg\n",
      "upload: text_to_image_training_images/187.jpg to s3://sdxl-text-to-image-lora-851725450449/text-to-image/187.jpg\n",
      "upload: text_to_image_training_images/182.jpg to s3://sdxl-text-to-image-lora-851725450449/text-to-image/182.jpg\n",
      "upload: text_to_image_training_images/184.jpg to s3://sdxl-text-to-image-lora-851725450449/text-to-image/184.jpg\n",
      "upload: text_to_image_training_images/183.jpg to s3://sdxl-text-to-image-lora-851725450449/text-to-image/183.jpg\n",
      "upload: text_to_image_training_images/190.jpg to s3://sdxl-text-to-image-lora-851725450449/text-to-image/190.jpg\n",
      "upload: text_to_image_training_images/185.jpg to s3://sdxl-text-to-image-lora-851725450449/text-to-image/185.jpg\n",
      "upload: text_to_image_training_images/189.jpg to s3://sdxl-text-to-image-lora-851725450449/text-to-image/189.jpg\n",
      "upload: text_to_image_training_images/188.jpg to s3://sdxl-text-to-image-lora-851725450449/text-to-image/188.jpg\n",
      "upload: text_to_image_training_images/186.jpg to s3://sdxl-text-to-image-lora-851725450449/text-to-image/186.jpg\n",
      "upload: text_to_image_training_images/194.jpg to s3://sdxl-text-to-image-lora-851725450449/text-to-image/194.jpg\n",
      "upload: text_to_image_training_images/192.jpg to s3://sdxl-text-to-image-lora-851725450449/text-to-image/192.jpg\n",
      "upload: text_to_image_training_images/198.jpg to s3://sdxl-text-to-image-lora-851725450449/text-to-image/198.jpg\n",
      "upload: text_to_image_training_images/195.jpg to s3://sdxl-text-to-image-lora-851725450449/text-to-image/195.jpg\n",
      "upload: text_to_image_training_images/197.jpg to s3://sdxl-text-to-image-lora-851725450449/text-to-image/197.jpg\n",
      "upload: text_to_image_training_images/196.jpg to s3://sdxl-text-to-image-lora-851725450449/text-to-image/196.jpg\n",
      "upload: text_to_image_training_images/193.jpg to s3://sdxl-text-to-image-lora-851725450449/text-to-image/193.jpg\n",
      "upload: text_to_image_training_images/191.jpg to s3://sdxl-text-to-image-lora-851725450449/text-to-image/191.jpg\n",
      "upload: text_to_image_training_images/202.jpg to s3://sdxl-text-to-image-lora-851725450449/text-to-image/202.jpg\n",
      "upload: text_to_image_training_images/199.jpg to s3://sdxl-text-to-image-lora-851725450449/text-to-image/199.jpg\n",
      "upload: text_to_image_training_images/204.jpg to s3://sdxl-text-to-image-lora-851725450449/text-to-image/204.jpg\n",
      "upload: text_to_image_training_images/203.jpg to s3://sdxl-text-to-image-lora-851725450449/text-to-image/203.jpg\n",
      "upload: text_to_image_training_images/207.jpg to s3://sdxl-text-to-image-lora-851725450449/text-to-image/207.jpg\n",
      "upload: text_to_image_training_images/201.jpg to s3://sdxl-text-to-image-lora-851725450449/text-to-image/201.jpg\n",
      "upload: text_to_image_training_images/211.jpg to s3://sdxl-text-to-image-lora-851725450449/text-to-image/211.jpg\n",
      "upload: text_to_image_training_images/209.jpg to s3://sdxl-text-to-image-lora-851725450449/text-to-image/209.jpg\n",
      "upload: text_to_image_training_images/208.jpg to s3://sdxl-text-to-image-lora-851725450449/text-to-image/208.jpg\n",
      "upload: text_to_image_training_images/205.jpg to s3://sdxl-text-to-image-lora-851725450449/text-to-image/205.jpg\n",
      "upload: text_to_image_training_images/206.jpg to s3://sdxl-text-to-image-lora-851725450449/text-to-image/206.jpg\n",
      "upload: text_to_image_training_images/212.jpg to s3://sdxl-text-to-image-lora-851725450449/text-to-image/212.jpg\n",
      "upload: text_to_image_training_images/213.jpg to s3://sdxl-text-to-image-lora-851725450449/text-to-image/213.jpg\n",
      "upload: text_to_image_training_images/214.jpg to s3://sdxl-text-to-image-lora-851725450449/text-to-image/214.jpg\n",
      "upload: text_to_image_training_images/200.jpg to s3://sdxl-text-to-image-lora-851725450449/text-to-image/200.jpg\n",
      "upload: text_to_image_training_images/218.jpg to s3://sdxl-text-to-image-lora-851725450449/text-to-image/218.jpg\n",
      "upload: text_to_image_training_images/216.jpg to s3://sdxl-text-to-image-lora-851725450449/text-to-image/216.jpg\n",
      "upload: text_to_image_training_images/219.jpg to s3://sdxl-text-to-image-lora-851725450449/text-to-image/219.jpg\n",
      "upload: text_to_image_training_images/220.jpg to s3://sdxl-text-to-image-lora-851725450449/text-to-image/220.jpg\n",
      "upload: text_to_image_training_images/215.jpg to s3://sdxl-text-to-image-lora-851725450449/text-to-image/215.jpg\n",
      "upload: text_to_image_training_images/221.jpg to s3://sdxl-text-to-image-lora-851725450449/text-to-image/221.jpg\n",
      "upload: text_to_image_training_images/223.jpg to s3://sdxl-text-to-image-lora-851725450449/text-to-image/223.jpg\n",
      "upload: text_to_image_training_images/217.jpg to s3://sdxl-text-to-image-lora-851725450449/text-to-image/217.jpg\n",
      "upload: text_to_image_training_images/225.jpg to s3://sdxl-text-to-image-lora-851725450449/text-to-image/225.jpg\n",
      "upload: text_to_image_training_images/224.jpg to s3://sdxl-text-to-image-lora-851725450449/text-to-image/224.jpg\n",
      "upload: text_to_image_training_images/230.jpg to s3://sdxl-text-to-image-lora-851725450449/text-to-image/230.jpg\n",
      "upload: text_to_image_training_images/222.jpg to s3://sdxl-text-to-image-lora-851725450449/text-to-image/222.jpg\n",
      "upload: text_to_image_training_images/229.jpg to s3://sdxl-text-to-image-lora-851725450449/text-to-image/229.jpg\n",
      "upload: text_to_image_training_images/227.jpg to s3://sdxl-text-to-image-lora-851725450449/text-to-image/227.jpg\n",
      "upload: text_to_image_training_images/234.jpg to s3://sdxl-text-to-image-lora-851725450449/text-to-image/234.jpg\n",
      "upload: text_to_image_training_images/235.jpg to s3://sdxl-text-to-image-lora-851725450449/text-to-image/235.jpg\n",
      "upload: text_to_image_training_images/232.jpg to s3://sdxl-text-to-image-lora-851725450449/text-to-image/232.jpg\n",
      "upload: text_to_image_training_images/233.jpg to s3://sdxl-text-to-image-lora-851725450449/text-to-image/233.jpg\n",
      "upload: text_to_image_training_images/210.jpg to s3://sdxl-text-to-image-lora-851725450449/text-to-image/210.jpg\n",
      "upload: text_to_image_training_images/226.jpg to s3://sdxl-text-to-image-lora-851725450449/text-to-image/226.jpg\n",
      "upload: text_to_image_training_images/231.jpg to s3://sdxl-text-to-image-lora-851725450449/text-to-image/231.jpg\n",
      "upload: text_to_image_training_images/241.jpg to s3://sdxl-text-to-image-lora-851725450449/text-to-image/241.jpg\n",
      "upload: text_to_image_training_images/238.jpg to s3://sdxl-text-to-image-lora-851725450449/text-to-image/238.jpg\n",
      "upload: text_to_image_training_images/237.jpg to s3://sdxl-text-to-image-lora-851725450449/text-to-image/237.jpg\n",
      "upload: text_to_image_training_images/228.jpg to s3://sdxl-text-to-image-lora-851725450449/text-to-image/228.jpg\n",
      "upload: text_to_image_training_images/236.jpg to s3://sdxl-text-to-image-lora-851725450449/text-to-image/236.jpg\n",
      "upload: text_to_image_training_images/246.jpg to s3://sdxl-text-to-image-lora-851725450449/text-to-image/246.jpg\n",
      "upload: text_to_image_training_images/240.jpg to s3://sdxl-text-to-image-lora-851725450449/text-to-image/240.jpg\n",
      "upload: text_to_image_training_images/248.jpg to s3://sdxl-text-to-image-lora-851725450449/text-to-image/248.jpg\n",
      "upload: text_to_image_training_images/243.jpg to s3://sdxl-text-to-image-lora-851725450449/text-to-image/243.jpg\n",
      "upload: text_to_image_training_images/250.jpg to s3://sdxl-text-to-image-lora-851725450449/text-to-image/250.jpg\n",
      "upload: text_to_image_training_images/245.jpg to s3://sdxl-text-to-image-lora-851725450449/text-to-image/245.jpg\n",
      "upload: text_to_image_training_images/244.jpg to s3://sdxl-text-to-image-lora-851725450449/text-to-image/244.jpg\n",
      "upload: text_to_image_training_images/242.jpg to s3://sdxl-text-to-image-lora-851725450449/text-to-image/242.jpg\n",
      "upload: text_to_image_training_images/247.jpg to s3://sdxl-text-to-image-lora-851725450449/text-to-image/247.jpg\n",
      "upload: text_to_image_training_images/249.jpg to s3://sdxl-text-to-image-lora-851725450449/text-to-image/249.jpg\n",
      "upload: text_to_image_training_images/257.jpg to s3://sdxl-text-to-image-lora-851725450449/text-to-image/257.jpg\n",
      "upload: text_to_image_training_images/258.jpg to s3://sdxl-text-to-image-lora-851725450449/text-to-image/258.jpg\n",
      "upload: text_to_image_training_images/239.jpg to s3://sdxl-text-to-image-lora-851725450449/text-to-image/239.jpg\n",
      "upload: text_to_image_training_images/254.jpg to s3://sdxl-text-to-image-lora-851725450449/text-to-image/254.jpg\n",
      "upload: text_to_image_training_images/253.jpg to s3://sdxl-text-to-image-lora-851725450449/text-to-image/253.jpg\n",
      "upload: text_to_image_training_images/255.jpg to s3://sdxl-text-to-image-lora-851725450449/text-to-image/255.jpg\n",
      "upload: text_to_image_training_images/259.jpg to s3://sdxl-text-to-image-lora-851725450449/text-to-image/259.jpg\n",
      "upload: text_to_image_training_images/252.jpg to s3://sdxl-text-to-image-lora-851725450449/text-to-image/252.jpg\n",
      "upload: text_to_image_training_images/dataset_info.json to s3://sdxl-text-to-image-lora-851725450449/text-to-image/dataset_info.json\n",
      "upload: text_to_image_training_images/251.jpg to s3://sdxl-text-to-image-lora-851725450449/text-to-image/251.jpg\n",
      "upload: text_to_image_training_images/256.jpg to s3://sdxl-text-to-image-lora-851725450449/text-to-image/256.jpg\n",
      "upload: text_to_image_training_images/261.jpg to s3://sdxl-text-to-image-lora-851725450449/text-to-image/261.jpg\n",
      "upload: text_to_image_training_images/260.jpg to s3://sdxl-text-to-image-lora-851725450449/text-to-image/260.jpg\n",
      "upload: text_to_image_training_images/metadata.jsonl to s3://sdxl-text-to-image-lora-851725450449/text-to-image/metadata.jsonl\n",
      "upload: text_to_image_training_images/262.jpg to s3://sdxl-text-to-image-lora-851725450449/text-to-image/262.jpg\n"
     ]
    }
   ],
   "source": [
    "!aws s3 cp --recursive $local_training_dataset_folder $train_s3_path"
   ]
  },
  {
   "cell_type": "code",
   "execution_count": 12,
   "id": "6e360c93-9998-42e3-b4c8-a905b14c8792",
   "metadata": {
    "tags": []
   },
   "outputs": [
    {
     "data": {
      "text/plain": [
       "'s3://sagemaker-us-east-1-851725450449/sdxl-text-to-image-lora/output'"
      ]
     },
     "execution_count": 12,
     "metadata": {},
     "output_type": "execute_result"
    }
   ],
   "source": [
    "output_bucket = sess.default_bucket()\n",
    "output_prefix = \"sdxl-text-to-image-lora\"\n",
    "\n",
    "s3_output_location = f\"s3://{output_bucket}/{output_prefix}/output\"\n",
    "s3_output_location"
   ]
  },
  {
   "cell_type": "code",
   "execution_count": 14,
   "id": "f5b365b0-e32e-4559-a41e-abe657bc1977",
   "metadata": {
    "tags": []
   },
   "outputs": [
    {
     "data": {
      "text/plain": [
       "'sagemaker-us-east-1-851725450449/models/sdxl-1.0-base.tar.gz'"
      ]
     },
     "execution_count": 14,
     "metadata": {},
     "output_type": "execute_result"
    }
   ],
   "source": [
    "training_instance_type = \"ml.g5.12xlarge\"\n",
    "\n",
    "# Retrieve the pre-trained model tarball to further fine-tune\n",
    "train_model_uri = f'{output_bucket}/models/sdxl-1.0-base.tar.gz'\n",
    "train_model_uri"
   ]
  },
  {
   "cell_type": "code",
   "execution_count": 15,
   "id": "95637ded-7c53-4f94-9033-1e8bac388a26",
   "metadata": {
    "tags": []
   },
   "outputs": [],
   "source": [
    "base_model = 'stabilityai/stable-diffusion-xl-base-1.0'\n",
    "vae_model = 'madebyollin/sdxl-vae-fp16-fix'"
   ]
  },
  {
   "cell_type": "code",
   "execution_count": 16,
   "id": "0d05adc1-453a-4879-b5af-7d08ba7cc862",
   "metadata": {
    "tags": []
   },
   "outputs": [
    {
     "data": {
      "text/plain": [
       "{'pretrained_model_name_or_path': 'stabilityai/stable-diffusion-xl-base-1.0',\n",
       " 'enable_xformers_memory_efficient_attention': True,\n",
       " 'rank': 128,\n",
       " 'learning_rate': 1e-06,\n",
       " 'max_train_steps': 3000,\n",
       " 'train_batch_size': 1,\n",
       " 'checkpointing_steps': 500,\n",
       " 'checkpoints_total_limit': 5,\n",
       " 'gradient_accumulation_steps': 4,\n",
       " 'resolution': 1024,\n",
       " 'use_8bit_adam': True,\n",
       " 'gradient_checkpointing': True,\n",
       " 'lr_warmup_steps': 0,\n",
       " 'lr_scheduler': 'constant'}"
      ]
     },
     "execution_count": 16,
     "metadata": {},
     "output_type": "execute_result"
    }
   ],
   "source": [
    "hyperparameters = {\n",
    "    'pretrained_model_name_or_path': base_model,\n",
    "    #    'pretrained_vae_model_name_or_path': vae_model,\n",
    "    # mix_precision has bug in this version. - https://github.com/huggingface/accelerate/issues/2182\n",
    "    #    'mixed_precision': 'fp16',\n",
    "    'enable_xformers_memory_efficient_attention': True,\n",
    "    'rank': 128,\n",
    "    'learning_rate': 1e-06,\n",
    "    'max_train_steps': 3000,\n",
    "    'train_batch_size': 1,\n",
    "    'checkpointing_steps': 500,\n",
    "    'checkpoints_total_limit': 5,\n",
    "    'gradient_accumulation_steps': 4,\n",
    "    'resolution': 1024,\n",
    "    'use_8bit_adam': True,\n",
    "    'gradient_checkpointing': True,\n",
    "    'lr_warmup_steps': 0,\n",
    "    'lr_scheduler': 'constant',\n",
    "}\n",
    "hyperparameters"
   ]
  },
  {
   "cell_type": "code",
   "execution_count": 17,
   "id": "4d711da4-6b20-4b05-bdaf-76acf2b51dc8",
   "metadata": {
    "tags": []
   },
   "outputs": [
    {
     "data": {
      "text/plain": [
       "'sdxl-text-to-image-lora'"
      ]
     },
     "execution_count": 17,
     "metadata": {},
     "output_type": "execute_result"
    }
   ],
   "source": [
    "training_job_name = \"sdxl-text-to-image-lora\"\n",
    "training_job_name"
   ]
  },
  {
   "cell_type": "code",
   "execution_count": 18,
   "id": "7bf104a8-6914-4d80-aa00-a1fc8714cf86",
   "metadata": {
    "tags": []
   },
   "outputs": [
    {
     "data": {
      "text/plain": [
       "'s3://sagemaker-us-east-1-851725450449/sdxl-text-to-image-lora/checkpoints'"
      ]
     },
     "execution_count": 18,
     "metadata": {},
     "output_type": "execute_result"
    }
   ],
   "source": [
    "s3_checkpoint_location = f\"s3://{output_bucket}/{training_job_name}/checkpoints\"\n",
    "s3_checkpoint_location"
   ]
  },
  {
   "cell_type": "code",
   "execution_count": 20,
   "id": "5b021439-3dc5-4c7a-8f3d-1592186b79f4",
   "metadata": {
    "tags": []
   },
   "outputs": [
    {
     "data": {
      "text/plain": [
       "'851725450449.dkr.ecr.us-east-1.amazonaws.com/sdxl-text-to-image-lora-training-gpu:da4dd2d995'"
      ]
     },
     "execution_count": 20,
     "metadata": {},
     "output_type": "execute_result"
    }
   ],
   "source": [
    "tag = 'da4dd2d995'\n",
    "train_image_uri = f'{account_id}.dkr.ecr.{aws_region}.amazonaws.com/sdxl-text-to-image-lora-training-gpu:{tag}'\n",
    "train_image_uri"
   ]
  },
  {
   "cell_type": "code",
   "execution_count": 22,
   "id": "70babbac-68da-4593-b39f-dcbf4aa2c1ac",
   "metadata": {
    "tags": []
   },
   "outputs": [
    {
     "name": "stderr",
     "output_type": "stream",
     "text": [
      "\u001b[34m\u001b[1mwandb\u001b[0m: Currently logged in as: \u001b[33mhaandol\u001b[0m. Use \u001b[1m`wandb login --relogin`\u001b[0m to force relogin\n"
     ]
    }
   ],
   "source": [
    "use_wandb = True\n",
    "if use_wandb:\n",
    "    wandb.login()\n",
    "    hyperparameters['report_to'] = 'wandb'\n",
    "    environment = {\n",
    "        'WANDB_API_KEY': '',  # Update API key\n",
    "        'WANDB_PROJECT': 'sdxl-text-to-image-lora',\n",
    "    }"
   ]
  },
  {
   "cell_type": "code",
   "execution_count": null,
   "id": "22b46388-8809-4cc2-94a4-22b030244e30",
   "metadata": {
    "tags": []
   },
   "outputs": [
    {
     "name": "stderr",
     "output_type": "stream",
     "text": [
      "INFO:sagemaker:Creating training-job with name: sdxl-text-to-image-lora-2024-01-25-06-40-58-349\n"
     ]
    },
    {
     "name": "stdout",
     "output_type": "stream",
     "text": [
      "2024-01-25 06:40:58 Starting - Starting the training job\n",
      "2024-01-25 06:40:58 Pending - Training job waiting for capacity........."
     ]
    }
   ],
   "source": [
    "sd_estimator = Estimator(\n",
    "    role=aws_role,\n",
    "    image_uri=train_image_uri,\n",
    "#    model_uri=train_model_uri,\n",
    "    instance_count=1,\n",
    "    instance_type=training_instance_type,\n",
    "    max_run=360000,\n",
    "    volume_size=128,\n",
    "    hyperparameters=hyperparameters,\n",
    "    output_path=s3_output_location,\n",
    "    base_job_name=training_job_name,\n",
    "    checkpoint_local_path=\"/opt/ml/checkpoints\",\n",
    "    checkpoint_s3_uri=s3_checkpoint_location,\n",
    "    environment=environment if use_wandb else None,\n",
    ")\n",
    "sd_estimator.fit({\"training\": train_s3_path}, logs=True)"
   ]
  },
  {
   "cell_type": "code",
   "execution_count": null,
   "id": "592cb441-c0f4-4cc6-978f-e008b70ba055",
   "metadata": {},
   "outputs": [],
   "source": []
  }
 ],
 "metadata": {
  "availableInstances": [
   {
    "_defaultOrder": 0,
    "_isFastLaunch": true,
    "category": "General purpose",
    "gpuNum": 0,
    "hideHardwareSpecs": false,
    "memoryGiB": 4,
    "name": "ml.t3.medium",
    "vcpuNum": 2
   },
   {
    "_defaultOrder": 1,
    "_isFastLaunch": false,
    "category": "General purpose",
    "gpuNum": 0,
    "hideHardwareSpecs": false,
    "memoryGiB": 8,
    "name": "ml.t3.large",
    "vcpuNum": 2
   },
   {
    "_defaultOrder": 2,
    "_isFastLaunch": false,
    "category": "General purpose",
    "gpuNum": 0,
    "hideHardwareSpecs": false,
    "memoryGiB": 16,
    "name": "ml.t3.xlarge",
    "vcpuNum": 4
   },
   {
    "_defaultOrder": 3,
    "_isFastLaunch": false,
    "category": "General purpose",
    "gpuNum": 0,
    "hideHardwareSpecs": false,
    "memoryGiB": 32,
    "name": "ml.t3.2xlarge",
    "vcpuNum": 8
   },
   {
    "_defaultOrder": 4,
    "_isFastLaunch": true,
    "category": "General purpose",
    "gpuNum": 0,
    "hideHardwareSpecs": false,
    "memoryGiB": 8,
    "name": "ml.m5.large",
    "vcpuNum": 2
   },
   {
    "_defaultOrder": 5,
    "_isFastLaunch": false,
    "category": "General purpose",
    "gpuNum": 0,
    "hideHardwareSpecs": false,
    "memoryGiB": 16,
    "name": "ml.m5.xlarge",
    "vcpuNum": 4
   },
   {
    "_defaultOrder": 6,
    "_isFastLaunch": false,
    "category": "General purpose",
    "gpuNum": 0,
    "hideHardwareSpecs": false,
    "memoryGiB": 32,
    "name": "ml.m5.2xlarge",
    "vcpuNum": 8
   },
   {
    "_defaultOrder": 7,
    "_isFastLaunch": false,
    "category": "General purpose",
    "gpuNum": 0,
    "hideHardwareSpecs": false,
    "memoryGiB": 64,
    "name": "ml.m5.4xlarge",
    "vcpuNum": 16
   },
   {
    "_defaultOrder": 8,
    "_isFastLaunch": false,
    "category": "General purpose",
    "gpuNum": 0,
    "hideHardwareSpecs": false,
    "memoryGiB": 128,
    "name": "ml.m5.8xlarge",
    "vcpuNum": 32
   },
   {
    "_defaultOrder": 9,
    "_isFastLaunch": false,
    "category": "General purpose",
    "gpuNum": 0,
    "hideHardwareSpecs": false,
    "memoryGiB": 192,
    "name": "ml.m5.12xlarge",
    "vcpuNum": 48
   },
   {
    "_defaultOrder": 10,
    "_isFastLaunch": false,
    "category": "General purpose",
    "gpuNum": 0,
    "hideHardwareSpecs": false,
    "memoryGiB": 256,
    "name": "ml.m5.16xlarge",
    "vcpuNum": 64
   },
   {
    "_defaultOrder": 11,
    "_isFastLaunch": false,
    "category": "General purpose",
    "gpuNum": 0,
    "hideHardwareSpecs": false,
    "memoryGiB": 384,
    "name": "ml.m5.24xlarge",
    "vcpuNum": 96
   },
   {
    "_defaultOrder": 12,
    "_isFastLaunch": false,
    "category": "General purpose",
    "gpuNum": 0,
    "hideHardwareSpecs": false,
    "memoryGiB": 8,
    "name": "ml.m5d.large",
    "vcpuNum": 2
   },
   {
    "_defaultOrder": 13,
    "_isFastLaunch": false,
    "category": "General purpose",
    "gpuNum": 0,
    "hideHardwareSpecs": false,
    "memoryGiB": 16,
    "name": "ml.m5d.xlarge",
    "vcpuNum": 4
   },
   {
    "_defaultOrder": 14,
    "_isFastLaunch": false,
    "category": "General purpose",
    "gpuNum": 0,
    "hideHardwareSpecs": false,
    "memoryGiB": 32,
    "name": "ml.m5d.2xlarge",
    "vcpuNum": 8
   },
   {
    "_defaultOrder": 15,
    "_isFastLaunch": false,
    "category": "General purpose",
    "gpuNum": 0,
    "hideHardwareSpecs": false,
    "memoryGiB": 64,
    "name": "ml.m5d.4xlarge",
    "vcpuNum": 16
   },
   {
    "_defaultOrder": 16,
    "_isFastLaunch": false,
    "category": "General purpose",
    "gpuNum": 0,
    "hideHardwareSpecs": false,
    "memoryGiB": 128,
    "name": "ml.m5d.8xlarge",
    "vcpuNum": 32
   },
   {
    "_defaultOrder": 17,
    "_isFastLaunch": false,
    "category": "General purpose",
    "gpuNum": 0,
    "hideHardwareSpecs": false,
    "memoryGiB": 192,
    "name": "ml.m5d.12xlarge",
    "vcpuNum": 48
   },
   {
    "_defaultOrder": 18,
    "_isFastLaunch": false,
    "category": "General purpose",
    "gpuNum": 0,
    "hideHardwareSpecs": false,
    "memoryGiB": 256,
    "name": "ml.m5d.16xlarge",
    "vcpuNum": 64
   },
   {
    "_defaultOrder": 19,
    "_isFastLaunch": false,
    "category": "General purpose",
    "gpuNum": 0,
    "hideHardwareSpecs": false,
    "memoryGiB": 384,
    "name": "ml.m5d.24xlarge",
    "vcpuNum": 96
   },
   {
    "_defaultOrder": 20,
    "_isFastLaunch": false,
    "category": "General purpose",
    "gpuNum": 0,
    "hideHardwareSpecs": true,
    "memoryGiB": 0,
    "name": "ml.geospatial.interactive",
    "supportedImageNames": [
     "sagemaker-geospatial-v1-0"
    ],
    "vcpuNum": 0
   },
   {
    "_defaultOrder": 21,
    "_isFastLaunch": true,
    "category": "Compute optimized",
    "gpuNum": 0,
    "hideHardwareSpecs": false,
    "memoryGiB": 4,
    "name": "ml.c5.large",
    "vcpuNum": 2
   },
   {
    "_defaultOrder": 22,
    "_isFastLaunch": false,
    "category": "Compute optimized",
    "gpuNum": 0,
    "hideHardwareSpecs": false,
    "memoryGiB": 8,
    "name": "ml.c5.xlarge",
    "vcpuNum": 4
   },
   {
    "_defaultOrder": 23,
    "_isFastLaunch": false,
    "category": "Compute optimized",
    "gpuNum": 0,
    "hideHardwareSpecs": false,
    "memoryGiB": 16,
    "name": "ml.c5.2xlarge",
    "vcpuNum": 8
   },
   {
    "_defaultOrder": 24,
    "_isFastLaunch": false,
    "category": "Compute optimized",
    "gpuNum": 0,
    "hideHardwareSpecs": false,
    "memoryGiB": 32,
    "name": "ml.c5.4xlarge",
    "vcpuNum": 16
   },
   {
    "_defaultOrder": 25,
    "_isFastLaunch": false,
    "category": "Compute optimized",
    "gpuNum": 0,
    "hideHardwareSpecs": false,
    "memoryGiB": 72,
    "name": "ml.c5.9xlarge",
    "vcpuNum": 36
   },
   {
    "_defaultOrder": 26,
    "_isFastLaunch": false,
    "category": "Compute optimized",
    "gpuNum": 0,
    "hideHardwareSpecs": false,
    "memoryGiB": 96,
    "name": "ml.c5.12xlarge",
    "vcpuNum": 48
   },
   {
    "_defaultOrder": 27,
    "_isFastLaunch": false,
    "category": "Compute optimized",
    "gpuNum": 0,
    "hideHardwareSpecs": false,
    "memoryGiB": 144,
    "name": "ml.c5.18xlarge",
    "vcpuNum": 72
   },
   {
    "_defaultOrder": 28,
    "_isFastLaunch": false,
    "category": "Compute optimized",
    "gpuNum": 0,
    "hideHardwareSpecs": false,
    "memoryGiB": 192,
    "name": "ml.c5.24xlarge",
    "vcpuNum": 96
   },
   {
    "_defaultOrder": 29,
    "_isFastLaunch": true,
    "category": "Accelerated computing",
    "gpuNum": 1,
    "hideHardwareSpecs": false,
    "memoryGiB": 16,
    "name": "ml.g4dn.xlarge",
    "vcpuNum": 4
   },
   {
    "_defaultOrder": 30,
    "_isFastLaunch": false,
    "category": "Accelerated computing",
    "gpuNum": 1,
    "hideHardwareSpecs": false,
    "memoryGiB": 32,
    "name": "ml.g4dn.2xlarge",
    "vcpuNum": 8
   },
   {
    "_defaultOrder": 31,
    "_isFastLaunch": false,
    "category": "Accelerated computing",
    "gpuNum": 1,
    "hideHardwareSpecs": false,
    "memoryGiB": 64,
    "name": "ml.g4dn.4xlarge",
    "vcpuNum": 16
   },
   {
    "_defaultOrder": 32,
    "_isFastLaunch": false,
    "category": "Accelerated computing",
    "gpuNum": 1,
    "hideHardwareSpecs": false,
    "memoryGiB": 128,
    "name": "ml.g4dn.8xlarge",
    "vcpuNum": 32
   },
   {
    "_defaultOrder": 33,
    "_isFastLaunch": false,
    "category": "Accelerated computing",
    "gpuNum": 4,
    "hideHardwareSpecs": false,
    "memoryGiB": 192,
    "name": "ml.g4dn.12xlarge",
    "vcpuNum": 48
   },
   {
    "_defaultOrder": 34,
    "_isFastLaunch": false,
    "category": "Accelerated computing",
    "gpuNum": 1,
    "hideHardwareSpecs": false,
    "memoryGiB": 256,
    "name": "ml.g4dn.16xlarge",
    "vcpuNum": 64
   },
   {
    "_defaultOrder": 35,
    "_isFastLaunch": false,
    "category": "Accelerated computing",
    "gpuNum": 1,
    "hideHardwareSpecs": false,
    "memoryGiB": 61,
    "name": "ml.p3.2xlarge",
    "vcpuNum": 8
   },
   {
    "_defaultOrder": 36,
    "_isFastLaunch": false,
    "category": "Accelerated computing",
    "gpuNum": 4,
    "hideHardwareSpecs": false,
    "memoryGiB": 244,
    "name": "ml.p3.8xlarge",
    "vcpuNum": 32
   },
   {
    "_defaultOrder": 37,
    "_isFastLaunch": false,
    "category": "Accelerated computing",
    "gpuNum": 8,
    "hideHardwareSpecs": false,
    "memoryGiB": 488,
    "name": "ml.p3.16xlarge",
    "vcpuNum": 64
   },
   {
    "_defaultOrder": 38,
    "_isFastLaunch": false,
    "category": "Accelerated computing",
    "gpuNum": 8,
    "hideHardwareSpecs": false,
    "memoryGiB": 768,
    "name": "ml.p3dn.24xlarge",
    "vcpuNum": 96
   },
   {
    "_defaultOrder": 39,
    "_isFastLaunch": false,
    "category": "Memory Optimized",
    "gpuNum": 0,
    "hideHardwareSpecs": false,
    "memoryGiB": 16,
    "name": "ml.r5.large",
    "vcpuNum": 2
   },
   {
    "_defaultOrder": 40,
    "_isFastLaunch": false,
    "category": "Memory Optimized",
    "gpuNum": 0,
    "hideHardwareSpecs": false,
    "memoryGiB": 32,
    "name": "ml.r5.xlarge",
    "vcpuNum": 4
   },
   {
    "_defaultOrder": 41,
    "_isFastLaunch": false,
    "category": "Memory Optimized",
    "gpuNum": 0,
    "hideHardwareSpecs": false,
    "memoryGiB": 64,
    "name": "ml.r5.2xlarge",
    "vcpuNum": 8
   },
   {
    "_defaultOrder": 42,
    "_isFastLaunch": false,
    "category": "Memory Optimized",
    "gpuNum": 0,
    "hideHardwareSpecs": false,
    "memoryGiB": 128,
    "name": "ml.r5.4xlarge",
    "vcpuNum": 16
   },
   {
    "_defaultOrder": 43,
    "_isFastLaunch": false,
    "category": "Memory Optimized",
    "gpuNum": 0,
    "hideHardwareSpecs": false,
    "memoryGiB": 256,
    "name": "ml.r5.8xlarge",
    "vcpuNum": 32
   },
   {
    "_defaultOrder": 44,
    "_isFastLaunch": false,
    "category": "Memory Optimized",
    "gpuNum": 0,
    "hideHardwareSpecs": false,
    "memoryGiB": 384,
    "name": "ml.r5.12xlarge",
    "vcpuNum": 48
   },
   {
    "_defaultOrder": 45,
    "_isFastLaunch": false,
    "category": "Memory Optimized",
    "gpuNum": 0,
    "hideHardwareSpecs": false,
    "memoryGiB": 512,
    "name": "ml.r5.16xlarge",
    "vcpuNum": 64
   },
   {
    "_defaultOrder": 46,
    "_isFastLaunch": false,
    "category": "Memory Optimized",
    "gpuNum": 0,
    "hideHardwareSpecs": false,
    "memoryGiB": 768,
    "name": "ml.r5.24xlarge",
    "vcpuNum": 96
   },
   {
    "_defaultOrder": 47,
    "_isFastLaunch": false,
    "category": "Accelerated computing",
    "gpuNum": 1,
    "hideHardwareSpecs": false,
    "memoryGiB": 16,
    "name": "ml.g5.xlarge",
    "vcpuNum": 4
   },
   {
    "_defaultOrder": 48,
    "_isFastLaunch": false,
    "category": "Accelerated computing",
    "gpuNum": 1,
    "hideHardwareSpecs": false,
    "memoryGiB": 32,
    "name": "ml.g5.2xlarge",
    "vcpuNum": 8
   },
   {
    "_defaultOrder": 49,
    "_isFastLaunch": false,
    "category": "Accelerated computing",
    "gpuNum": 1,
    "hideHardwareSpecs": false,
    "memoryGiB": 64,
    "name": "ml.g5.4xlarge",
    "vcpuNum": 16
   },
   {
    "_defaultOrder": 50,
    "_isFastLaunch": false,
    "category": "Accelerated computing",
    "gpuNum": 1,
    "hideHardwareSpecs": false,
    "memoryGiB": 128,
    "name": "ml.g5.8xlarge",
    "vcpuNum": 32
   },
   {
    "_defaultOrder": 51,
    "_isFastLaunch": false,
    "category": "Accelerated computing",
    "gpuNum": 1,
    "hideHardwareSpecs": false,
    "memoryGiB": 256,
    "name": "ml.g5.16xlarge",
    "vcpuNum": 64
   },
   {
    "_defaultOrder": 52,
    "_isFastLaunch": false,
    "category": "Accelerated computing",
    "gpuNum": 4,
    "hideHardwareSpecs": false,
    "memoryGiB": 192,
    "name": "ml.g5.12xlarge",
    "vcpuNum": 48
   },
   {
    "_defaultOrder": 53,
    "_isFastLaunch": false,
    "category": "Accelerated computing",
    "gpuNum": 4,
    "hideHardwareSpecs": false,
    "memoryGiB": 384,
    "name": "ml.g5.24xlarge",
    "vcpuNum": 96
   },
   {
    "_defaultOrder": 54,
    "_isFastLaunch": false,
    "category": "Accelerated computing",
    "gpuNum": 8,
    "hideHardwareSpecs": false,
    "memoryGiB": 768,
    "name": "ml.g5.48xlarge",
    "vcpuNum": 192
   },
   {
    "_defaultOrder": 55,
    "_isFastLaunch": false,
    "category": "Accelerated computing",
    "gpuNum": 8,
    "hideHardwareSpecs": false,
    "memoryGiB": 1152,
    "name": "ml.p4d.24xlarge",
    "vcpuNum": 96
   },
   {
    "_defaultOrder": 56,
    "_isFastLaunch": false,
    "category": "Accelerated computing",
    "gpuNum": 8,
    "hideHardwareSpecs": false,
    "memoryGiB": 1152,
    "name": "ml.p4de.24xlarge",
    "vcpuNum": 96
   }
  ],
  "kernelspec": {
   "display_name": "conda_python3",
   "language": "python",
   "name": "conda_python3"
  },
  "language_info": {
   "codemirror_mode": {
    "name": "ipython",
    "version": 3
   },
   "file_extension": ".py",
   "mimetype": "text/x-python",
   "name": "python",
   "nbconvert_exporter": "python",
   "pygments_lexer": "ipython3",
   "version": "3.10.13"
  }
 },
 "nbformat": 4,
 "nbformat_minor": 5
}
