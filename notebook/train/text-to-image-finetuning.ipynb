{
 "cells": [
  {
   "attachments": {},
   "cell_type": "markdown",
   "id": "aeb9f1e9-fa07-4c4d-acb4-0d567d6d2c14",
   "metadata": {},
   "source": [
    "# 스테이블 디퓨전 파인튜닝\n",
    "\n",
    "## 1. 의존성 설치"
   ]
  },
  {
   "cell_type": "code",
   "execution_count": 1,
   "id": "0161845a-d46d-49c0-aec6-b2dc4c6ff471",
   "metadata": {
    "tags": []
   },
   "outputs": [],
   "source": [
    "!pip -q install wandb datasets torchvision"
   ]
  },
  {
   "attachments": {},
   "cell_type": "markdown",
   "id": "37245d4e-71c8-46ba-ab0f-dfc69a4c4cef",
   "metadata": {
    "tags": []
   },
   "source": [
    "## 2. 환경설정\n",
    "- 의존성 설정\n",
    "- 데이터 폴더 및 파인튜닝용 프롬프트 생성 (dataset_info.json)"
   ]
  },
  {
   "cell_type": "code",
   "execution_count": 2,
   "id": "f5fec610-d933-4b18-859a-12dc30181685",
   "metadata": {
    "tags": []
   },
   "outputs": [],
   "source": [
    "# for common\n",
    "import os\n",
    "import json\n",
    "from pathlib import Path\n",
    "\n",
    "import wandb\n",
    "from datasets import load_dataset, Image\n",
    "import boto3, botocore\n",
    "import sagemaker\n",
    "from sagemaker import get_execution_role\n",
    "\n",
    "# for resizing\n",
    "from PIL import Image\n",
    "from torchvision import transforms\n",
    "\n",
    "# for training\n",
    "from sagemaker import image_uris, model_uris, script_uris\n",
    "\n",
    "from sagemaker.estimator import Estimator\n",
    "from sagemaker.utils import name_from_base\n",
    "from sagemaker.parameter import ContinuousParameter, IntegerParameter\n",
    "from sagemaker.tuner import HyperparameterTuner\n",
    "\n",
    "# for inference\n",
    "import matplotlib.pyplot as plt\n",
    "import numpy as np\n",
    "from sagemaker.predictor import Predictor"
   ]
  },
  {
   "cell_type": "code",
   "execution_count": 3,
   "id": "a139a336-b4eb-4069-99b8-aefe968b1f48",
   "metadata": {
    "tags": []
   },
   "outputs": [
    {
     "name": "stderr",
     "output_type": "stream",
     "text": [
      "Couldn't call 'get_role' to get Role ARN from role name dongkyl to get Role path.\n"
     ]
    },
    {
     "ename": "ClientError",
     "evalue": "An error occurred (ValidationError) when calling the GetRole operation: The specified value for roleName is invalid. It must contain only alphanumeric characters and/or the following: +=,.@_-",
     "output_type": "error",
     "traceback": [
      "\u001b[0;31m---------------------------------------------------------------------------\u001b[0m",
      "\u001b[0;31mValueError\u001b[0m                                Traceback (most recent call last)",
      "Cell \u001b[0;32mIn[3], line 2\u001b[0m\n\u001b[1;32m      1\u001b[0m \u001b[38;5;28;01mtry\u001b[39;00m:\n\u001b[0;32m----> 2\u001b[0m     aws_role \u001b[38;5;241m=\u001b[39m \u001b[43msagemaker\u001b[49m\u001b[38;5;241;43m.\u001b[39;49m\u001b[43mget_execution_role\u001b[49m\u001b[43m(\u001b[49m\u001b[43m)\u001b[49m\n\u001b[1;32m      3\u001b[0m \u001b[38;5;28;01mexcept\u001b[39;00m:\n",
      "File \u001b[0;32m~/.pyenv/versions/3.11.4/lib/python3.11/site-packages/sagemaker/session.py:6142\u001b[0m, in \u001b[0;36mget_execution_role\u001b[0;34m(sagemaker_session)\u001b[0m\n\u001b[1;32m   6138\u001b[0m message \u001b[38;5;241m=\u001b[39m (\n\u001b[1;32m   6139\u001b[0m     \u001b[38;5;124m\"\u001b[39m\u001b[38;5;124mThe current AWS identity is not a role: \u001b[39m\u001b[38;5;132;01m{}\u001b[39;00m\u001b[38;5;124m, therefore it cannot be used as a \u001b[39m\u001b[38;5;124m\"\u001b[39m\n\u001b[1;32m   6140\u001b[0m     \u001b[38;5;124m\"\u001b[39m\u001b[38;5;124mSageMaker execution role\u001b[39m\u001b[38;5;124m\"\u001b[39m\n\u001b[1;32m   6141\u001b[0m )\n\u001b[0;32m-> 6142\u001b[0m \u001b[38;5;28;01mraise\u001b[39;00m \u001b[38;5;167;01mValueError\u001b[39;00m(message\u001b[38;5;241m.\u001b[39mformat(arn))\n",
      "\u001b[0;31mValueError\u001b[0m: The current AWS identity is not a role: arn:aws:iam::395271362395:user/dongkyl, therefore it cannot be used as a SageMaker execution role",
      "\nDuring handling of the above exception, another exception occurred:\n",
      "\u001b[0;31mClientError\u001b[0m                               Traceback (most recent call last)",
      "Cell \u001b[0;32mIn[3], line 6\u001b[0m\n\u001b[1;32m      4\u001b[0m     iam \u001b[38;5;241m=\u001b[39m boto3\u001b[38;5;241m.\u001b[39mclient(\u001b[38;5;124m\"\u001b[39m\u001b[38;5;124miam\u001b[39m\u001b[38;5;124m\"\u001b[39m)\n\u001b[1;32m      5\u001b[0m     \u001b[38;5;66;03m# TODO: replace with your role name (i.e. \"AmazonSageMaker-ExecutionRole-20211014T154824\")\u001b[39;00m\n\u001b[0;32m----> 6\u001b[0m     aws_role \u001b[38;5;241m=\u001b[39m \u001b[43miam\u001b[49m\u001b[38;5;241;43m.\u001b[39;49m\u001b[43mget_role\u001b[49m\u001b[43m(\u001b[49m\u001b[43mRoleName\u001b[49m\u001b[38;5;241;43m=\u001b[39;49m\u001b[38;5;124;43m\"\u001b[39;49m\u001b[38;5;124;43m<replace with your RoleName>\u001b[39;49m\u001b[38;5;124;43m\"\u001b[39;49m\u001b[43m)\u001b[49m[\u001b[38;5;124m\"\u001b[39m\u001b[38;5;124mRole\u001b[39m\u001b[38;5;124m\"\u001b[39m][\u001b[38;5;124m\"\u001b[39m\u001b[38;5;124mArn\u001b[39m\u001b[38;5;124m\"\u001b[39m]\n\u001b[1;32m      8\u001b[0m boto_session \u001b[38;5;241m=\u001b[39m boto3\u001b[38;5;241m.\u001b[39mSession()\n\u001b[1;32m      9\u001b[0m aws_region \u001b[38;5;241m=\u001b[39m boto_session\u001b[38;5;241m.\u001b[39mregion_name\n",
      "File \u001b[0;32m~/.pyenv/versions/3.11.4/lib/python3.11/site-packages/botocore/client.py:535\u001b[0m, in \u001b[0;36mClientCreator._create_api_method.<locals>._api_call\u001b[0;34m(self, *args, **kwargs)\u001b[0m\n\u001b[1;32m    531\u001b[0m     \u001b[38;5;28;01mraise\u001b[39;00m \u001b[38;5;167;01mTypeError\u001b[39;00m(\n\u001b[1;32m    532\u001b[0m         \u001b[38;5;124mf\u001b[39m\u001b[38;5;124m\"\u001b[39m\u001b[38;5;132;01m{\u001b[39;00mpy_operation_name\u001b[38;5;132;01m}\u001b[39;00m\u001b[38;5;124m() only accepts keyword arguments.\u001b[39m\u001b[38;5;124m\"\u001b[39m\n\u001b[1;32m    533\u001b[0m     )\n\u001b[1;32m    534\u001b[0m \u001b[38;5;66;03m# The \"self\" in this scope is referring to the BaseClient.\u001b[39;00m\n\u001b[0;32m--> 535\u001b[0m \u001b[38;5;28;01mreturn\u001b[39;00m \u001b[38;5;28;43mself\u001b[39;49m\u001b[38;5;241;43m.\u001b[39;49m\u001b[43m_make_api_call\u001b[49m\u001b[43m(\u001b[49m\u001b[43moperation_name\u001b[49m\u001b[43m,\u001b[49m\u001b[43m \u001b[49m\u001b[43mkwargs\u001b[49m\u001b[43m)\u001b[49m\n",
      "File \u001b[0;32m~/.pyenv/versions/3.11.4/lib/python3.11/site-packages/botocore/client.py:980\u001b[0m, in \u001b[0;36mBaseClient._make_api_call\u001b[0;34m(self, operation_name, api_params)\u001b[0m\n\u001b[1;32m    978\u001b[0m     error_code \u001b[38;5;241m=\u001b[39m parsed_response\u001b[38;5;241m.\u001b[39mget(\u001b[38;5;124m\"\u001b[39m\u001b[38;5;124mError\u001b[39m\u001b[38;5;124m\"\u001b[39m, {})\u001b[38;5;241m.\u001b[39mget(\u001b[38;5;124m\"\u001b[39m\u001b[38;5;124mCode\u001b[39m\u001b[38;5;124m\"\u001b[39m)\n\u001b[1;32m    979\u001b[0m     error_class \u001b[38;5;241m=\u001b[39m \u001b[38;5;28mself\u001b[39m\u001b[38;5;241m.\u001b[39mexceptions\u001b[38;5;241m.\u001b[39mfrom_code(error_code)\n\u001b[0;32m--> 980\u001b[0m     \u001b[38;5;28;01mraise\u001b[39;00m error_class(parsed_response, operation_name)\n\u001b[1;32m    981\u001b[0m \u001b[38;5;28;01melse\u001b[39;00m:\n\u001b[1;32m    982\u001b[0m     \u001b[38;5;28;01mreturn\u001b[39;00m parsed_response\n",
      "\u001b[0;31mClientError\u001b[0m: An error occurred (ValidationError) when calling the GetRole operation: The specified value for roleName is invalid. It must contain only alphanumeric characters and/or the following: +=,.@_-"
     ]
    }
   ],
   "source": [
    "try:\n",
    "    aws_role = sagemaker.get_execution_role()\n",
    "except:\n",
    "    iam = boto3.client(\"iam\")\n",
    "    # TODO: replace with your role name (i.e. \"AmazonSageMaker-ExecutionRole-20211014T154824\")\n",
    "    aws_role = iam.get_role(RoleName=\"<replace with your RoleName>\")[\"Role\"][\"Arn\"]\n",
    "\n",
    "boto_session = boto3.Session()\n",
    "aws_region = boto_session.region_name\n",
    "sess = sagemaker.Session(boto_session=boto_session)\n",
    "\n",
    "print(aws_role)\n",
    "print(aws_region)\n",
    "print(sess.boto_region_name)"
   ]
  },
  {
   "attachments": {},
   "cell_type": "markdown",
   "id": "0040376c-c55f-410c-9466-7035f0268dd6",
   "metadata": {},
   "source": [
    "## 3. 데이터셋 확인\n",
    "\n",
    "- 로컬에 준비된 이미지를 사용하거나,\n",
    "- [haandol/icon](https://huggingface.co/datasets/haandol/icon) 데이터셋 사용.\n",
    "- [Unsplash](https://unsplash.com) 에서 다운받은 라이센스 프리 이미지 데이터셋\n"
   ]
  },
  {
   "cell_type": "code",
   "execution_count": 79,
   "id": "c55cf94b-35df-437b-a6bc-ef1e1d76ad21",
   "metadata": {
    "tags": []
   },
   "outputs": [],
   "source": [
    "local_training_dataset_folder= Path(\"text_to_image_training_images\")\n",
    "if not os.path.exists(local_training_dataset_folder):\n",
    "    os.mkdir(local_training_dataset_folder)"
   ]
  },
  {
   "cell_type": "code",
   "execution_count": 80,
   "id": "42d1f28f-bc7b-47f0-890f-c6f71e7a3f0a",
   "metadata": {
    "tags": []
   },
   "outputs": [
    {
     "name": "stderr",
     "output_type": "stream",
     "text": [
      "WARNING:datasets.builder:Found cached dataset parquet (/home/ec2-user/.cache/huggingface/datasets/haandol___parquet/haandol--icon-6092b0f5835e727e/0.0.0/2a3b91fbd88a2c90d1dbbb32b460cf621d31bd5b05b934492fdef7d8d6f236ec)\n"
     ]
    }
   ],
   "source": [
    "use_local_images = False\n",
    "\n",
    "if not use_local_images:\n",
    "    dataset_name = 'haandol/icon'\n",
    "    dataset = load_dataset(dataset_name, split='train', download_mode='force_redownload')\n",
    "    \n",
    "    metadata = []\n",
    "    for i, datum in enumerate(dataset):\n",
    "        fn = f'{i}'.zfill(3) + '.jpg'\n",
    "        datum['image'].convert('RGB').save(local_training_dataset_folder / fn)\n",
    "        datum['text']\n",
    "        metadata.append(json.dumps({\n",
    "            'file_name': fn,\n",
    "            'text': datum['text']\n",
    "        }))\n",
    "    \n",
    "    with open(local_training_dataset_folder / 'metadata.jsonl', 'w') as fp:\n",
    "        fp.write('\\n'.join(metadata))"
   ]
  },
  {
   "cell_type": "code",
   "execution_count": 81,
   "id": "2dfe3b79-7369-4e10-a9b0-c71dadd59820",
   "metadata": {
    "tags": []
   },
   "outputs": [],
   "source": [
    "validation_prompts = [\n",
    "    'a photo of red telephone in front of the Eiffel tower',\n",
    "    'a photo of black telephone handset in front of the Eiffel tower',\n",
    "    'a white speech bubble in front of the Eiffel tower',\n",
    "    'a white speech bubble on black background',\n",
    "    'a woman profile picture in front of the Eiffel tower, looking at viewer',\n",
    "    'a man profile picture in front of the Eiffel tower, looking at viewer',\n",
    "    'a white closed envelope on black background',\n",
    "    'a red closed envelope on white background',\n",
    "    'a red closed envelope on white background, flat vector',\n",
    "    'a telephone handset on white background, flat vector',\n",
    "]\n",
    "# Instance prompt is fed into the training script via dataset_info.json present in the training folder. Here, we write that file.\n",
    "with open(os.path.join(local_training_dataset_folder, \"dataset_info.json\"), \"w\") as f:\n",
    "    f.write(json.dumps({\n",
    "        'validation_prompts': validation_prompts\n",
    "    }))"
   ]
  },
  {
   "attachments": {},
   "cell_type": "markdown",
   "id": "2eecf1df-f25b-4cf1-8c63-d3faed681452",
   "metadata": {},
   "source": [
    "### 데이터셋 업로드\n",
    "- 버킷 생성"
   ]
  },
  {
   "cell_type": "code",
   "execution_count": 82,
   "id": "bc61dc43-95ce-41e0-8158-857da12292b9",
   "metadata": {
    "tags": []
   },
   "outputs": [],
   "source": [
    "mySession = boto3.session.Session()\n",
    "AwsRegion = mySession.region_name\n",
    "account_id = boto3.client(\"sts\").get_caller_identity().get(\"Account\")\n",
    "\n",
    "s3 = boto3.client(\"s3\")\n",
    "s3.download_file(\n",
    "    f\"jumpstart-cache-prod-{AwsRegion}\",\n",
    "    \"ai_services_assets/custom_labels/cl_jumpstart_ic_notebook_utils.py\",\n",
    "    \"utils.py\",\n",
    ")\n",
    "from utils import create_bucket_if_not_exists"
   ]
  },
  {
   "cell_type": "code",
   "execution_count": 83,
   "id": "6d0d2311-a1d5-4b82-ac18-08b9a51ad632",
   "metadata": {
    "tags": []
   },
   "outputs": [
    {
     "name": "stdout",
     "output_type": "stream",
     "text": [
      "Using an existing bucket stable-diffusion-text-to-image-us-east-1-981794133797\n"
     ]
    }
   ],
   "source": [
    "training_bucket = f\"stable-diffusion-text-to-image-{AwsRegion}-{account_id}\"\n",
    "\n",
    "create_bucket_if_not_exists(training_bucket)\n",
    "\n",
    "train_s3_path = f\"s3://{training_bucket}/text-to-image/\""
   ]
  },
  {
   "cell_type": "code",
   "execution_count": 84,
   "id": "089d1f7b-df0a-4945-88a1-a1287d7d0098",
   "metadata": {
    "tags": []
   },
   "outputs": [
    {
     "name": "stdout",
     "output_type": "stream",
     "text": [
      "upload: text_to_image_training_images/.ipynb_checkpoints/metadata-checkpoint.jsonl to s3://stable-diffusion-text-to-image-us-east-1-981794133797/text-to-image/.ipynb_checkpoints/metadata-checkpoint.jsonl\n",
      "upload: text_to_image_training_images/002.jpg to s3://stable-diffusion-text-to-image-us-east-1-981794133797/text-to-image/002.jpg\n",
      "upload: text_to_image_training_images/.ipynb_checkpoints/000-checkpoint.jpg to s3://stable-diffusion-text-to-image-us-east-1-981794133797/text-to-image/.ipynb_checkpoints/000-checkpoint.jpg\n",
      "upload: text_to_image_training_images/.ipynb_checkpoints/013-checkpoint.jpg to s3://stable-diffusion-text-to-image-us-east-1-981794133797/text-to-image/.ipynb_checkpoints/013-checkpoint.jpg\n",
      "upload: text_to_image_training_images/.ipynb_checkpoints/dataset_info-checkpoint.json to s3://stable-diffusion-text-to-image-us-east-1-981794133797/text-to-image/.ipynb_checkpoints/dataset_info-checkpoint.json\n",
      "upload: text_to_image_training_images/000.jpg to s3://stable-diffusion-text-to-image-us-east-1-981794133797/text-to-image/000.jpg\n",
      "upload: text_to_image_training_images/005.jpg to s3://stable-diffusion-text-to-image-us-east-1-981794133797/text-to-image/005.jpg\n",
      "upload: text_to_image_training_images/004.jpg to s3://stable-diffusion-text-to-image-us-east-1-981794133797/text-to-image/004.jpg\n",
      "upload: text_to_image_training_images/001.jpg to s3://stable-diffusion-text-to-image-us-east-1-981794133797/text-to-image/001.jpg\n",
      "upload: text_to_image_training_images/011.jpg to s3://stable-diffusion-text-to-image-us-east-1-981794133797/text-to-image/011.jpg\n",
      "upload: text_to_image_training_images/009.jpg to s3://stable-diffusion-text-to-image-us-east-1-981794133797/text-to-image/009.jpg\n",
      "upload: text_to_image_training_images/008.jpg to s3://stable-diffusion-text-to-image-us-east-1-981794133797/text-to-image/008.jpg\n",
      "upload: text_to_image_training_images/010.jpg to s3://stable-diffusion-text-to-image-us-east-1-981794133797/text-to-image/010.jpg\n",
      "upload: text_to_image_training_images/dataset_info.json to s3://stable-diffusion-text-to-image-us-east-1-981794133797/text-to-image/dataset_info.json\n",
      "upload: text_to_image_training_images/006.jpg to s3://stable-diffusion-text-to-image-us-east-1-981794133797/text-to-image/006.jpg\n",
      "upload: text_to_image_training_images/013.jpg to s3://stable-diffusion-text-to-image-us-east-1-981794133797/text-to-image/013.jpg\n",
      "upload: text_to_image_training_images/012.jpg to s3://stable-diffusion-text-to-image-us-east-1-981794133797/text-to-image/012.jpg\n",
      "upload: text_to_image_training_images/007.jpg to s3://stable-diffusion-text-to-image-us-east-1-981794133797/text-to-image/007.jpg\n",
      "upload: text_to_image_training_images/metadata.jsonl to s3://stable-diffusion-text-to-image-us-east-1-981794133797/text-to-image/metadata.jsonl\n",
      "upload: text_to_image_training_images/003.jpg to s3://stable-diffusion-text-to-image-us-east-1-981794133797/text-to-image/003.jpg\n"
     ]
    }
   ],
   "source": [
    "!aws s3 cp --recursive $local_training_dataset_folder $train_s3_path"
   ]
  },
  {
   "attachments": {},
   "cell_type": "markdown",
   "id": "9c2b5a20-6d2f-414a-b0f1-76c5bf2ce802",
   "metadata": {},
   "source": [
    "## 4. 세이지메이커 학습작업으로 파인튜닝\n",
    "\n",
    "### 4.1. 트레이닝 파라미터 설정\n",
    "\n",
    "- 기본 모델은 StableDiffusion 2.1 base 모델\n",
    "- 세이지메이커 학습완료 모델의 output uri(s3) 로 변경하여 해당 모델에 추가학습 가능"
   ]
  },
  {
   "cell_type": "code",
   "execution_count": 85,
   "id": "4fc8cf18-a0ed-4910-9a64-0389a63b7738",
   "metadata": {
    "tags": []
   },
   "outputs": [
    {
     "name": "stderr",
     "output_type": "stream",
     "text": [
      "INFO:sagemaker.image_uris:image_uri is not presented, retrieving image_uri based on instance_type, framework etc.\n"
     ]
    }
   ],
   "source": [
    "train_model_id, train_model_version, train_scope = (\n",
    "    \"model-txt2img-stabilityai-stable-diffusion-v2-1-base\",\n",
    "    \"*\",\n",
    "    \"training\",\n",
    ")\n",
    "\n",
    "# Tested with ml.g4dn.2xlarge (16GB GPU memory) and ml.g5.2xlarge (24GB GPU memory) instances. Other instances may work as well.\n",
    "# If ml.g5.2xlarge instance type is available, please change the following instance type to speed up training.\n",
    "training_instance_type = \"ml.g5.12xlarge\"\n",
    "\n",
    "# Retrieve the pre-trained model tarball to further fine-tune\n",
    "train_model_uri = model_uris.retrieve(\n",
    "    model_id=train_model_id, model_version=train_model_version, model_scope=train_scope\n",
    ")\n",
    "train_model_uri"
   ]
  },
  {
   "attachments": {},
   "cell_type": "markdown",
   "id": "7c65169e-5cc1-442b-b5d0-403711916217",
   "metadata": {
    "tags": []
   },
   "source": [
    "---\n",
    "\n",
    "- `/train/text-to-image/build_and_push.sh` 로 학습이미지 ECR 에 푸시 후\n",
    "- 해당 학습용 이미지 주소를 아래에 채우기\n",
    "\n",
    "---"
   ]
  },
  {
   "cell_type": "code",
   "execution_count": 87,
   "id": "26af3ca6-d7ac-4bbd-a037-8c159a77073f",
   "metadata": {
    "tags": []
   },
   "outputs": [
    {
     "data": {
      "text/plain": [
       "'981794133797.dkr.ecr.us-east-1.amazonaws.com/text-to-image-training-gpu:7accbb38c1'"
      ]
     },
     "execution_count": 87,
     "metadata": {},
     "output_type": "execute_result"
    }
   ],
   "source": [
    "tag = '65739bf0d3'\n",
    "train_image_uri = f'981794133797.dkr.ecr.us-east-1.amazonaws.com/text-to-image-training-gpu:{tag}'\n",
    "train_image_uri"
   ]
  },
  {
   "attachments": {},
   "cell_type": "markdown",
   "id": "a80a7e7f-2425-474d-821c-cca969fc68d8",
   "metadata": {},
   "source": [
    "---\n",
    "\n",
    "- 모델파일 저장될 위치 지정\n",
    "\n",
    "---"
   ]
  },
  {
   "cell_type": "code",
   "execution_count": 88,
   "id": "b3eaa36e-927c-4f1e-95b8-7fe617092b59",
   "metadata": {
    "tags": []
   },
   "outputs": [
    {
     "data": {
      "text/plain": [
       "'s3://sagemaker-us-east-1-981794133797/text-to-image-training/output'"
      ]
     },
     "execution_count": 88,
     "metadata": {},
     "output_type": "execute_result"
    }
   ],
   "source": [
    "output_bucket = sess.default_bucket()\n",
    "output_prefix = \"text-to-image-training\"\n",
    "\n",
    "s3_output_location = f\"s3://{output_bucket}/{output_prefix}/output\"\n",
    "s3_output_location"
   ]
  },
  {
   "attachments": {},
   "cell_type": "markdown",
   "id": "e98d39b6-bade-415c-800c-dfe2078194b6",
   "metadata": {
    "tags": []
   },
   "source": [
    "### 4.2. 하이퍼파라미터 \n",
    "\n",
    "- diffusers [text_to_image 예제](https://github.com/huggingface/diffusers/blob/v0.16.1/examples/text_to_image/train_text_to_image.py) 의 입력 파라미터를 사용\n"
   ]
  },
  {
   "cell_type": "code",
   "execution_count": null,
   "id": "248f641e-ab88-484e-b1e0-8a467f6b61b7",
   "metadata": {
    "tags": []
   },
   "outputs": [
    {
     "data": {
      "text/plain": [
       "{'use_ema': True,\n",
       " 'resolution': 512,\n",
       " 'center_crop': True,\n",
       " 'random_flip': True,\n",
       " 'learning_rate': 1e-05,\n",
       " 'max_train_steps': 15000,\n",
       " 'gradient_accumulation_steps': 4,\n",
       " 'lr_warmup_steps': 0,\n",
       " 'mixed_precision': 'fp16',\n",
       " 'enable_xformers_memory_efficient_attention': True}"
      ]
     },
     "execution_count": 89,
     "metadata": {},
     "output_type": "execute_result"
    }
   ],
   "source": [
    "hyperparameters = {\n",
    "    'learning_rate': 1e-06,\n",
    "    'max_train_steps': 15000,\n",
    "    'num_train_epochs': 1,\n",
    "    'batch_size': 1,\n",
    "    'validation_steps': 50,\n",
    "    'checkpointing_steps': 400,\n",
    "    'checkpoints_total_limit': 10,\n",
    "    'gradient_accumulation_steps': 4,\n",
    "    'use_ema': True,\n",
    "    'resolution': 512,\n",
    "    'use_8bit_adam': True,\n",
    "    'gradient_checkpointing': True,\n",
    "    'lr_warmup_steps': 100,\n",
    "    'input_perturbation': 0.1,\n",
    "    'lr_scheduler': 'cosine_with_restarts',\n",
    "    'lr_num_cycles': 3000, # 5 cycles\n",
    "}\n",
    "hyperparameters"
   ]
  },
  {
   "attachments": {},
   "cell_type": "markdown",
   "id": "4060b3a0-34df-40b1-b196-81f0b414a0ba",
   "metadata": {
    "tags": []
   },
   "source": [
    "### 4.3. 학습하기\n",
    "\n",
    "---\n",
    "\n",
    "- HPO 를 이용하여 학습 (7개 작업을 동시에 진행)\n",
    "- [FID](https://wandb.ai/wandb_fc/korean/reports/-Frechet-Inception-distance-FID-GANs---Vmlldzo0MzQ3Mzc) 를 이용하여 최적 학습결과 찾기\n",
    "- Weights and Biases 를 이용할 경우 `use_wandb=True` 로 설정 하고 로그인\n",
    "\n",
    "---"
   ]
  },
  {
   "cell_type": "code",
   "execution_count": 90,
   "id": "4e509464-a937-4755-9717-e473e1020445",
   "metadata": {
    "tags": []
   },
   "outputs": [
    {
     "data": {
      "text/plain": [
       "'sd-text-to-image-2023-06-05-16-51-33-630'"
      ]
     },
     "execution_count": 90,
     "metadata": {},
     "output_type": "execute_result"
    }
   ],
   "source": [
    "training_job_name = \"sd-text-to-image\"\n",
    "training_job_name"
   ]
  },
  {
   "cell_type": "code",
   "execution_count": null,
   "id": "0677f2ea",
   "metadata": {},
   "outputs": [],
   "source": [
    "s3_checkpoint_location = f\"s3://{output_bucket}/{training_job_name}/checkpoints\"\n",
    "s3_checkpoint_location"
   ]
  },
  {
   "cell_type": "code",
   "execution_count": 91,
   "id": "b341e32b-a750-4113-ac1d-13baf02ea4a5",
   "metadata": {
    "tags": []
   },
   "outputs": [],
   "source": [
    "use_wandb = True\n",
    "if use_wandb:\n",
    "    wandb.login()\n",
    "    hyperparameters['report_to'] = 'wandb'\n",
    "    environment = {\n",
    "        'WANDB_API_KEY': '',  # Update API key\n",
    "        'WANDB_PROJECT': \"sd-text-to-image\",\n",
    "    }"
   ]
  },
  {
   "cell_type": "code",
   "execution_count": null,
   "id": "bf75a17f-0190-46a0-b998-53b6895d2457",
   "metadata": {},
   "outputs": [
    {
     "name": "stderr",
     "output_type": "stream",
     "text": [
      "INFO:sagemaker:Creating training-job with name: sd-text-to-image-2023-06-05-16-51-33-63-2023-06-05-16-51-34-659\n"
     ]
    },
    {
     "name": "stdout",
     "output_type": "stream",
     "text": [
      "2023-06-05 16:51:34 Starting - Starting the training job."
     ]
    }
   ],
   "source": [
    "use_hpo = False\n",
    "\n",
    "# Create SageMaker Estimator instance\n",
    "sd_estimator = Estimator(\n",
    "    role=aws_role,\n",
    "    image_uri=train_image_uri,\n",
    "    model_uri=train_model_uri,\n",
    "    instance_count=1,\n",
    "    instance_type=training_instance_type,\n",
    "    max_run=360000,\n",
    "    volume_size=128,\n",
    "    hyperparameters=hyperparameters,\n",
    "    output_path=s3_output_location,\n",
    "    base_job_name=training_job_name,\n",
    "    checkpoint_local_path=\"/opt/ml/checkpoints\",\n",
    "    checkpoint_s3_uri=s3_checkpoint_location,\n",
    "    environment=environment if use_wandb else None,\n",
    ")\n",
    "\n",
    "if use_hpo:\n",
    "    sd_estimator.set_hyperparameters(compute_fid=\"True\")\n",
    "    hyperparameter_ranges = {\n",
    "        \"learning_rate\": ContinuousParameter(5e-7, 2e-6, \"Linear\"),\n",
    "        \"max_train_steps\": IntegerParameter(4000, 12000, \"Linear\"),\n",
    "    }\n",
    "    metric_definitions = [\n",
    "        {'Name': 'fid_score', 'Regex': 'fid_score=([-+]?\\\\d\\\\.?\\\\d*)'},\n",
    "    ]\n",
    "    tuner_parameters = {\n",
    "        \"estimator\": sd_estimator,\n",
    "        \"metric_definitions\": metric_definitions,\n",
    "        \"objective_metric_name\": \"fid_score\",\n",
    "        \"objective_type\": \"Minimize\",\n",
    "        \"hyperparameter_ranges\": hyperparameter_ranges,\n",
    "        \"max_jobs\": 14,\n",
    "        \"max_parallel_jobs\": 7,\n",
    "        \"strategy\": \"Bayesian\",\n",
    "        \"base_tuning_job_name\": training_job_name,\n",
    "    }\n",
    "\n",
    "    bayesian_tuner = HyperparameterTuner(**tuner_parameters)\n",
    "    bayesian_tuner.fit({\"training\": train_s3_path}, wait=False)\n",
    "else:\n",
    "    sd_estimator.fit({\"training\": train_s3_path}, logs=True)"
   ]
  },
  {
   "attachments": {},
   "cell_type": "markdown",
   "id": "4831a64e-72c6-47fa-832f-a3429e1ee87d",
   "metadata": {},
   "source": [
    "## 5. 세이지메이커 엔드포인트 생성\n",
    "\n",
    "- 파인튜닝된 모델로 세이지메이커 엔드포인트 프로비저닝\n",
    "- 엔드포인트 생성대신 `inference.ipynb` 노트북으로 직접 아이콘 생성도 가능"
   ]
  },
  {
   "cell_type": "code",
   "execution_count": null,
   "id": "e9e01a76-03c3-43ab-9a79-3fe0a7d1e820",
   "metadata": {},
   "outputs": [],
   "source": [
    "%time\n",
    "\n",
    "inference_instance_type = \"ml.g5.2xlarge\"\n",
    "\n",
    "# Retrieve the inference docker container uri\n",
    "deploy_image_uri = image_uris.retrieve(\n",
    "    region=None,\n",
    "    framework=None,  # automatically inferred from model_id\n",
    "    image_scope=\"inference\",\n",
    "    model_id=train_model_id,\n",
    "    model_version=train_model_version,\n",
    "    instance_type=inference_instance_type,\n",
    ")\n",
    "# Retrieve the inference script uri. This includes scripts for model loading, inference handling etc.\n",
    "deploy_source_uri = script_uris.retrieve(\n",
    "    model_id=train_model_id, model_version=train_model_version, script_scope=\"inference\"\n",
    ")"
   ]
  },
  {
   "attachments": {},
   "cell_type": "markdown",
   "id": "43b83b6d-f385-4da0-be07-e124765f4fca",
   "metadata": {},
   "source": [
    "---\n",
    "\n",
    "다른 엔드포인트로 생성할 경우 아래 코드 실행하여 predictor 생성\n",
    "\n",
    "```python\n",
    "endpoint_name = 'sd-dreambooth-txt2img-stab-2023-05-27-07-04-28-234'\n",
    "finetuned_predictor = Predictor(\n",
    "    endpoint_name=endpoint_name,\n",
    "    sagemaker_session=sess,\n",
    ")\n",
    "```\n",
    "\n",
    "---"
   ]
  },
  {
   "cell_type": "code",
   "execution_count": null,
   "id": "e18b09ac-50a5-47df-ba47-ea109dcc460d",
   "metadata": {},
   "outputs": [],
   "source": [
    "endpoint_name = f'{training_job_name}-'\n",
    "\n",
    "# Use the estimator from the previous step to deploy to a SageMaker endpoint\n",
    "finetuned_predictor = (bayesian_tuner if use_hpo else sd_estimator).deploy(\n",
    "    initial_instance_count=1,\n",
    "    instance_type=inference_instance_type,\n",
    "    entry_point=\"inference.py\",  # entry point file in source_dir and present in deploy_source_uri\n",
    "    image_uri=deploy_image_uri,\n",
    "    source_dir=deploy_source_uri,\n",
    "    endpoint_name=endpoint_name,\n",
    ")"
   ]
  },
  {
   "attachments": {},
   "cell_type": "markdown",
   "id": "1fd18658-8759-4a3e-b4f3-e69bd3e8c9e8",
   "metadata": {
    "tags": []
   },
   "source": [
    "---\n",
    "\n",
    "사용가능한 파라미터 목록:\n",
    "\n",
    "* **prompt**: prompt to guide the image generation. Must be specified and can be a string or a list of strings.\n",
    "* **width**: width of the hallucinated image. If specified, it must be a positive integer divisible by 8.\n",
    "* **height**: height of the hallucinated image. If specified, it must be a positive integer divisible by 8.\n",
    "* **num_inference_steps**: Number of denoising steps during image generation. More steps lead to higher quality image. If specified, it must a positive integer.\n",
    "* **guidance_scale**: Higher guidance scale results in image closely related to the prompt, at the expense of image quality. If specified, it must be a float. guidance_scale<=1 is ignored.\n",
    "* **negative_prompt**: guide image generation against this prompt. If specified, it must be a string or a list of strings and used with guidance_scale. If guidance_scale is disabled, this is also disabled. Moreover, if prompt is a list of strings then negative_prompt must also be a list of strings. \n",
    "* **num_images_per_prompt**: number of images returned per prompt. If specified it must be a positive integer. \n",
    "* **seed**: Fix the randomized state for reproducibility. If specified, it must be an integer.\n",
    "---"
   ]
  },
  {
   "cell_type": "code",
   "execution_count": null,
   "id": "2ab75b3c-f44c-4848-8aaf-7cc652804532",
   "metadata": {},
   "outputs": [],
   "source": [
    "def query(model_predictor, text):\n",
    "    \"\"\"Query the model predictor.\"\"\"\n",
    "\n",
    "    encoded_text = text.encode(\"utf-8\")\n",
    "\n",
    "    query_response = model_predictor.predict(\n",
    "        encoded_text,\n",
    "        {\n",
    "            \"ContentType\": \"application/x-text\",\n",
    "            \"Accept\": \"application/json\",\n",
    "        },\n",
    "    )\n",
    "    return query_response\n",
    "\n",
    "\n",
    "def parse_response(query_response):\n",
    "    \"\"\"Parse response and return generated image and the prompt\"\"\"\n",
    "\n",
    "    response_dict = json.loads(query_response)\n",
    "    return response_dict[\"generated_image\"], response_dict[\"prompt\"]\n",
    "\n",
    "\n",
    "def display_img_and_prompt(img, prmpt):\n",
    "    \"\"\"Display hallucinated image.\"\"\"\n",
    "    plt.figure(figsize=(12, 12))\n",
    "    plt.imshow(np.array(img))\n",
    "    plt.axis(\"off\")\n",
    "    plt.title(prmpt)\n",
    "    plt.show()"
   ]
  },
  {
   "cell_type": "code",
   "execution_count": null,
   "id": "e1226d0f-7b87-4082-b1f7-8d95db4d2d48",
   "metadata": {},
   "outputs": [],
   "source": [
    "def query_endpoint_with_json_payload(model_predictor, payload, content_type, accept):\n",
    "    \"\"\"Query the model predictor with json payload.\"\"\"\n",
    "\n",
    "    encoded_payload = json.dumps(payload).encode(\"utf-8\")\n",
    "\n",
    "    query_response = model_predictor.predict(\n",
    "        encoded_payload,\n",
    "        {\n",
    "            \"ContentType\": content_type,\n",
    "            \"Accept\": accept,\n",
    "        },\n",
    "    )\n",
    "    return query_response\n",
    "\n",
    "\n",
    "def parse_response_multiple_images(query_response):\n",
    "    \"\"\"Parse response and return generated image and the prompt\"\"\"\n",
    "\n",
    "    response_dict = json.loads(query_response)\n",
    "    return response_dict[\"generated_images\"], response_dict[\"prompt\"]"
   ]
  },
  {
   "cell_type": "code",
   "execution_count": null,
   "id": "6f3ed6dc-5ec0-467c-b0c3-9cf16edf2eff",
   "metadata": {},
   "outputs": [],
   "source": [
    "payload = {\n",
    "    \"prompt\": \"a photo of telephone handset\",\n",
    "    \"negative_prompt\": \"cropped, shadow, out of frame, duplicate, watermark, signature, text, ugly, sketch, deformed, mutated, blurry\",\n",
    "    \"width\": 512,\n",
    "    \"height\": 512,\n",
    "    \"num_images_per_prompt\": 1,\n",
    "    \"num_inference_steps\": 30,\n",
    "    \"guidance_scale\": 7.5,\n",
    "}\n",
    "\n",
    "query_response = query_endpoint_with_json_payload(\n",
    "    finetuned_predictor, payload, \"application/json\", \"application/json\"\n",
    ")\n",
    "generated_images, prompt = parse_response_multiple_images(query_response)\n",
    "display_img_and_prompt(generated_images[0], prompt)"
   ]
  }
 ],
 "metadata": {
  "kernelspec": {
   "display_name": "Python 3 (ipykernel)",
   "language": "python",
   "name": "python3"
  },
  "language_info": {
   "codemirror_mode": {
    "name": "ipython",
    "version": 3
   },
   "file_extension": ".py",
   "mimetype": "text/x-python",
   "name": "python",
   "nbconvert_exporter": "python",
   "pygments_lexer": "ipython3",
   "version": "3.11.4"
  }
 },
 "nbformat": 4,
 "nbformat_minor": 5
}
